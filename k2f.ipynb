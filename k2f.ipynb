{
 "cells": [
  {
   "cell_type": "code",
   "execution_count": 2,
   "metadata": {},
   "outputs": [],
   "source": [
    "from sympy import *"
   ]
  },
  {
   "cell_type": "code",
   "execution_count": 3,
   "metadata": {},
   "outputs": [],
   "source": [
    "a, b, u, v, i, j = symbols('a b u v i j')\n",
    "\n",
    "expr = ((i-u)**a)*((j-v)**b)\n",
    "\n",
    "mat = zeros(9)"
   ]
  },
  {
   "cell_type": "code",
   "execution_count": 4,
   "metadata": {},
   "outputs": [],
   "source": [
    "AB = [\n",
    "    [0,0],\n",
    "    [1,0],\n",
    "    [0,1],\n",
    "    [2,0],\n",
    "    [1,1],\n",
    "    [0,2],\n",
    "    [2,1],\n",
    "    [1,2],\n",
    "    [2,2]\n",
    "]\n",
    "\n",
    "IJ = [\n",
    "    [ 0, 0],\n",
    "    [ 1, 0],\n",
    "    [ 0, 1],\n",
    "    [-1, 0],\n",
    "    [ 0,-1],\n",
    "    [ 1, 1],\n",
    "    [-1, 1],\n",
    "    [-1,-1],\n",
    "    [ 1,-1]\n",
    "]"
   ]
  },
  {
   "cell_type": "code",
   "execution_count": 26,
   "metadata": {},
   "outputs": [
    {
     "data": {
      "text/latex": [
       "$\\displaystyle \\left[\\begin{matrix}1 & 1 & 1 & 1 & 1 & 1 & 1 & 1 & 1\\\\- u & 1 - u & - u & - u - 1 & - u & 1 - u & - u - 1 & - u - 1 & 1 - u\\\\- v & - v & 1 - v & - v & - v - 1 & 1 - v & 1 - v & - v - 1 & - v - 1\\\\u^{2} & \\left(u - 1\\right)^{2} & u^{2} & \\left(u + 1\\right)^{2} & u^{2} & \\left(u - 1\\right)^{2} & \\left(u + 1\\right)^{2} & \\left(u + 1\\right)^{2} & \\left(u - 1\\right)^{2}\\\\u v & v \\left(u - 1\\right) & u \\left(v - 1\\right) & v \\left(u + 1\\right) & u \\left(v + 1\\right) & \\left(u - 1\\right) \\left(v - 1\\right) & \\left(u + 1\\right) \\left(v - 1\\right) & \\left(u + 1\\right) \\left(v + 1\\right) & \\left(u - 1\\right) \\left(v + 1\\right)\\\\v^{2} & v^{2} & \\left(v - 1\\right)^{2} & v^{2} & \\left(v + 1\\right)^{2} & \\left(v - 1\\right)^{2} & \\left(v - 1\\right)^{2} & \\left(v + 1\\right)^{2} & \\left(v + 1\\right)^{2}\\\\- u^{2} v & - v \\left(u - 1\\right)^{2} & u^{2} \\cdot \\left(1 - v\\right) & - v \\left(u + 1\\right)^{2} & u^{2} \\left(- v - 1\\right) & \\left(1 - v\\right) \\left(u - 1\\right)^{2} & \\left(1 - v\\right) \\left(u + 1\\right)^{2} & \\left(u + 1\\right)^{2} \\left(- v - 1\\right) & \\left(u - 1\\right)^{2} \\left(- v - 1\\right)\\\\- u v^{2} & v^{2} \\cdot \\left(1 - u\\right) & - u \\left(v - 1\\right)^{2} & v^{2} \\left(- u - 1\\right) & - u \\left(v + 1\\right)^{2} & \\left(1 - u\\right) \\left(v - 1\\right)^{2} & \\left(- u - 1\\right) \\left(v - 1\\right)^{2} & \\left(- u - 1\\right) \\left(v + 1\\right)^{2} & \\left(1 - u\\right) \\left(v + 1\\right)^{2}\\\\u^{2} v^{2} & v^{2} \\left(u - 1\\right)^{2} & u^{2} \\left(v - 1\\right)^{2} & v^{2} \\left(u + 1\\right)^{2} & u^{2} \\left(v + 1\\right)^{2} & \\left(u - 1\\right)^{2} \\left(v - 1\\right)^{2} & \\left(u + 1\\right)^{2} \\left(v - 1\\right)^{2} & \\left(u + 1\\right)^{2} \\left(v + 1\\right)^{2} & \\left(u - 1\\right)^{2} \\left(v + 1\\right)^{2}\\end{matrix}\\right]$"
      ],
      "text/plain": [
       "Matrix([\n",
       "[        1,               1,               1,               1,               1,                     1,                     1,                     1,                     1],\n",
       "[       -u,           1 - u,              -u,          -u - 1,              -u,                 1 - u,                -u - 1,                -u - 1,                 1 - u],\n",
       "[       -v,              -v,           1 - v,              -v,          -v - 1,                 1 - v,                 1 - v,                -v - 1,                -v - 1],\n",
       "[     u**2,      (u - 1)**2,            u**2,      (u + 1)**2,            u**2,            (u - 1)**2,            (u + 1)**2,            (u + 1)**2,            (u - 1)**2],\n",
       "[      u*v,       v*(u - 1),       u*(v - 1),       v*(u + 1),       u*(v + 1),       (u - 1)*(v - 1),       (u + 1)*(v - 1),       (u + 1)*(v + 1),       (u - 1)*(v + 1)],\n",
       "[     v**2,            v**2,      (v - 1)**2,            v**2,      (v + 1)**2,            (v - 1)**2,            (v - 1)**2,            (v + 1)**2,            (v + 1)**2],\n",
       "[  -u**2*v,   -v*(u - 1)**2,    u**2*(1 - v),   -v*(u + 1)**2,   u**2*(-v - 1),    (1 - v)*(u - 1)**2,    (1 - v)*(u + 1)**2,   (u + 1)**2*(-v - 1),   (u - 1)**2*(-v - 1)],\n",
       "[  -u*v**2,    v**2*(1 - u),   -u*(v - 1)**2,   v**2*(-u - 1),   -u*(v + 1)**2,    (1 - u)*(v - 1)**2,   (-u - 1)*(v - 1)**2,   (-u - 1)*(v + 1)**2,    (1 - u)*(v + 1)**2],\n",
       "[u**2*v**2, v**2*(u - 1)**2, u**2*(v - 1)**2, v**2*(u + 1)**2, u**2*(v + 1)**2, (u - 1)**2*(v - 1)**2, (u + 1)**2*(v - 1)**2, (u + 1)**2*(v + 1)**2, (u - 1)**2*(v + 1)**2]])"
      ]
     },
     "execution_count": 26,
     "metadata": {},
     "output_type": "execute_result"
    }
   ],
   "source": [
    "for kid in range(9):\n",
    "    for fid in range(9):\n",
    "        mat[kid,fid] = expr.subs([(a, AB[kid][0]), (b, AB[kid][1]), (i, IJ[fid][0]), (j, IJ[fid][1])])\n",
    "\n",
    "mat=simplify(mat)\n",
    "mat"
   ]
  },
  {
   "cell_type": "code",
   "execution_count": 17,
   "metadata": {},
   "outputs": [
    {
     "data": {
      "text/latex": [
       "$\\displaystyle \\left[\\begin{matrix}u^{2} v^{2} - u^{2} - v^{2} + 1 & 2 u \\left(v^{2} - 1\\right) & 2 v \\left(u^{2} - 1\\right) & v^{2} - 1 & 4 u v & u^{2} - 1 & 2 v & 2 u & 1\\\\\\frac{u \\left(- u v^{2} + u - v^{2} + 1\\right)}{2} & - u v^{2} + u - \\frac{v^{2}}{2} + \\frac{1}{2} & u v \\left(- u - 1\\right) & \\frac{1}{2} - \\frac{v^{2}}{2} & v \\left(- 2 u - 1\\right) & \\frac{u \\left(- u - 1\\right)}{2} & - v & - u - \\frac{1}{2} & - \\frac{1}{2}\\\\\\frac{v \\left(- u^{2} v - u^{2} + v + 1\\right)}{2} & u v \\left(- v - 1\\right) & - u^{2} v - \\frac{u^{2}}{2} + v + \\frac{1}{2} & \\frac{v \\left(- v - 1\\right)}{2} & u \\left(- 2 v - 1\\right) & \\frac{1}{2} - \\frac{u^{2}}{2} & - v - \\frac{1}{2} & - u & - \\frac{1}{2}\\\\\\frac{u \\left(- u v^{2} + u + v^{2} - 1\\right)}{2} & - u v^{2} + u + \\frac{v^{2}}{2} - \\frac{1}{2} & u v \\left(1 - u\\right) & \\frac{1}{2} - \\frac{v^{2}}{2} & v \\left(1 - 2 u\\right) & \\frac{u \\left(1 - u\\right)}{2} & - v & \\frac{1}{2} - u & - \\frac{1}{2}\\\\\\frac{v \\left(- u^{2} v + u^{2} + v - 1\\right)}{2} & u v \\left(1 - v\\right) & - u^{2} v + \\frac{u^{2}}{2} + v - \\frac{1}{2} & \\frac{v \\left(1 - v\\right)}{2} & u \\left(1 - 2 v\\right) & \\frac{1}{2} - \\frac{u^{2}}{2} & \\frac{1}{2} - v & - u & - \\frac{1}{2}\\\\\\frac{u v \\left(u v + u + v + 1\\right)}{4} & \\frac{v \\left(2 u v + 2 u + v + 1\\right)}{4} & \\frac{u \\left(2 u v + u + 2 v + 1\\right)}{4} & \\frac{v \\left(v + 1\\right)}{4} & u v + \\frac{u}{2} + \\frac{v}{2} + \\frac{1}{4} & \\frac{u \\left(u + 1\\right)}{4} & \\frac{v}{2} + \\frac{1}{4} & \\frac{u}{2} + \\frac{1}{4} & \\frac{1}{4}\\\\\\frac{u v \\left(u v + u - v - 1\\right)}{4} & \\frac{v \\left(2 u v + 2 u - v - 1\\right)}{4} & \\frac{u \\left(2 u v + u - 2 v - 1\\right)}{4} & \\frac{v \\left(v + 1\\right)}{4} & u v + \\frac{u}{2} - \\frac{v}{2} - \\frac{1}{4} & \\frac{u \\left(u - 1\\right)}{4} & \\frac{v}{2} + \\frac{1}{4} & \\frac{u}{2} - \\frac{1}{4} & \\frac{1}{4}\\\\\\frac{u v \\left(u v - u - v + 1\\right)}{4} & \\frac{v \\left(2 u v - 2 u - v + 1\\right)}{4} & \\frac{u \\left(2 u v - u - 2 v + 1\\right)}{4} & \\frac{v \\left(v - 1\\right)}{4} & u v - \\frac{u}{2} - \\frac{v}{2} + \\frac{1}{4} & \\frac{u \\left(u - 1\\right)}{4} & \\frac{v}{2} - \\frac{1}{4} & \\frac{u}{2} - \\frac{1}{4} & \\frac{1}{4}\\\\\\frac{u v \\left(u v - u + v - 1\\right)}{4} & \\frac{v \\left(2 u v - 2 u + v - 1\\right)}{4} & \\frac{u \\left(2 u v - u + 2 v - 1\\right)}{4} & \\frac{v \\left(v - 1\\right)}{4} & u v - \\frac{u}{2} + \\frac{v}{2} - \\frac{1}{4} & \\frac{u \\left(u + 1\\right)}{4} & \\frac{v}{2} - \\frac{1}{4} & \\frac{u}{2} + \\frac{1}{4} & \\frac{1}{4}\\end{matrix}\\right]$"
      ],
      "text/plain": [
       "Matrix([\n",
       "[ u**2*v**2 - u**2 - v**2 + 1,             2*u*(v**2 - 1),             2*v*(u**2 - 1),     v**2 - 1,                 4*u*v,     u**2 - 1,       2*v,       2*u,    1],\n",
       "[u*(-u*v**2 + u - v**2 + 1)/2, -u*v**2 + u - v**2/2 + 1/2,               u*v*(-u - 1), 1/2 - v**2/2,          v*(-2*u - 1), u*(-u - 1)/2,        -v,  -u - 1/2, -1/2],\n",
       "[v*(-u**2*v - u**2 + v + 1)/2,               u*v*(-v - 1), -u**2*v - u**2/2 + v + 1/2, v*(-v - 1)/2,          u*(-2*v - 1), 1/2 - u**2/2,  -v - 1/2,        -u, -1/2],\n",
       "[u*(-u*v**2 + u + v**2 - 1)/2, -u*v**2 + u + v**2/2 - 1/2,                u*v*(1 - u), 1/2 - v**2/2,           v*(1 - 2*u),  u*(1 - u)/2,        -v,   1/2 - u, -1/2],\n",
       "[v*(-u**2*v + u**2 + v - 1)/2,                u*v*(1 - v), -u**2*v + u**2/2 + v - 1/2,  v*(1 - v)/2,           u*(1 - 2*v), 1/2 - u**2/2,   1/2 - v,        -u, -1/2],\n",
       "[     u*v*(u*v + u + v + 1)/4,  v*(2*u*v + 2*u + v + 1)/4,  u*(2*u*v + u + 2*v + 1)/4,  v*(v + 1)/4, u*v + u/2 + v/2 + 1/4,  u*(u + 1)/4, v/2 + 1/4, u/2 + 1/4,  1/4],\n",
       "[     u*v*(u*v + u - v - 1)/4,  v*(2*u*v + 2*u - v - 1)/4,  u*(2*u*v + u - 2*v - 1)/4,  v*(v + 1)/4, u*v + u/2 - v/2 - 1/4,  u*(u - 1)/4, v/2 + 1/4, u/2 - 1/4,  1/4],\n",
       "[     u*v*(u*v - u - v + 1)/4,  v*(2*u*v - 2*u - v + 1)/4,  u*(2*u*v - u - 2*v + 1)/4,  v*(v - 1)/4, u*v - u/2 - v/2 + 1/4,  u*(u - 1)/4, v/2 - 1/4, u/2 - 1/4,  1/4],\n",
       "[     u*v*(u*v - u + v - 1)/4,  v*(2*u*v - 2*u + v - 1)/4,  u*(2*u*v - u + 2*v - 1)/4,  v*(v - 1)/4, u*v - u/2 + v/2 - 1/4,  u*(u + 1)/4, v/2 - 1/4, u/2 + 1/4,  1/4]])"
      ]
     },
     "execution_count": 17,
     "metadata": {},
     "output_type": "execute_result"
    }
   ],
   "source": [
    "mat_i = simplify(mat.inv())\n",
    "mat_i"
   ]
  },
  {
   "cell_type": "code",
   "execution_count": 27,
   "metadata": {},
   "outputs": [
    {
     "data": {
      "text/latex": [
       "$\\displaystyle \\left[\\begin{matrix}1 & 0 & 0 & 0 & 0 & 0 & 0 & 0 & 0\\\\0 & 1 & 0 & 0 & 0 & 0 & 0 & 0 & 0\\\\0 & 0 & 1 & 0 & 0 & 0 & 0 & 0 & 0\\\\0 & 0 & 0 & 1 & 0 & 0 & 0 & 0 & 0\\\\0 & 0 & 0 & 0 & 1 & 0 & 0 & 0 & 0\\\\0 & 0 & 0 & 0 & 0 & 1 & 0 & 0 & 0\\\\0 & 0 & 0 & 0 & 0 & 0 & 1 & 0 & 0\\\\0 & 0 & 0 & 0 & 0 & 0 & 0 & 1 & 0\\\\0 & 0 & 0 & 0 & 0 & 0 & 0 & 0 & 1\\end{matrix}\\right]$"
      ],
      "text/plain": [
       "Matrix([\n",
       "[1, 0, 0, 0, 0, 0, 0, 0, 0],\n",
       "[0, 1, 0, 0, 0, 0, 0, 0, 0],\n",
       "[0, 0, 1, 0, 0, 0, 0, 0, 0],\n",
       "[0, 0, 0, 1, 0, 0, 0, 0, 0],\n",
       "[0, 0, 0, 0, 1, 0, 0, 0, 0],\n",
       "[0, 0, 0, 0, 0, 1, 0, 0, 0],\n",
       "[0, 0, 0, 0, 0, 0, 1, 0, 0],\n",
       "[0, 0, 0, 0, 0, 0, 0, 1, 0],\n",
       "[0, 0, 0, 0, 0, 0, 0, 0, 1]])"
      ]
     },
     "execution_count": 27,
     "metadata": {},
     "output_type": "execute_result"
    }
   ],
   "source": [
    "expand(mat*mat_i)"
   ]
  },
  {
   "cell_type": "code",
   "execution_count": null,
   "metadata": {},
   "outputs": [],
   "source": []
  }
 ],
 "metadata": {
  "kernelspec": {
   "display_name": "Python 3",
   "language": "python",
   "name": "python3"
  },
  "language_info": {
   "codemirror_mode": {
    "name": "ipython",
    "version": 3
   },
   "file_extension": ".py",
   "mimetype": "text/x-python",
   "name": "python",
   "nbconvert_exporter": "python",
   "pygments_lexer": "ipython3",
   "version": "3.10.12"
  }
 },
 "nbformat": 4,
 "nbformat_minor": 2
}
