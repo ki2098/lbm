{
 "cells": [
  {
   "cell_type": "code",
   "execution_count": 184,
   "metadata": {},
   "outputs": [],
   "source": [
    "import sympy as sp\n",
    "import numpy as np\n",
    "import math"
   ]
  },
  {
   "cell_type": "code",
   "execution_count": 185,
   "metadata": {},
   "outputs": [],
   "source": [
    "def fid(i,j):\n",
    "    return (i+1)*3+j+1\n",
    "\n",
    "def oid(a,b):\n",
    "    return a*3+b"
   ]
  },
  {
   "cell_type": "code",
   "execution_count": 186,
   "metadata": {},
   "outputs": [],
   "source": [
    "f = np.ndarray(9, dtype=object)\n",
    "for i in range(9):\n",
    "    f[i] = sp.Symbol(f'f[{i}]')\n"
   ]
  },
  {
   "cell_type": "code",
   "execution_count": 187,
   "metadata": {},
   "outputs": [],
   "source": [
    "m = np.ndarray(9, dtype=object)\n",
    "for i in range(9):\n",
    "    m[i] = sp.Symbol(f'm[{i}]')"
   ]
  },
  {
   "cell_type": "code",
   "execution_count": 188,
   "metadata": {},
   "outputs": [
    {
     "data": {
      "text/plain": [
       "array([[ 0.  ,  0.  ,  0.  ,  0.  ,  0.25, -0.25,  0.  , -0.25,  0.25],\n",
       "       [ 0.  ,  0.  ,  0.  , -0.5 ,  0.  ,  0.5 ,  0.5 ,  0.  , -0.5 ],\n",
       "       [ 0.  ,  0.  ,  0.  ,  0.  , -0.25, -0.25,  0.  ,  0.25,  0.25],\n",
       "       [ 0.  , -0.5 ,  0.5 ,  0.  ,  0.  ,  0.  ,  0.  ,  0.5 , -0.5 ],\n",
       "       [ 1.  ,  0.  , -1.  ,  0.  ,  0.  ,  0.  , -1.  ,  0.  ,  1.  ],\n",
       "       [ 0.  ,  0.5 ,  0.5 ,  0.  ,  0.  ,  0.  ,  0.  , -0.5 , -0.5 ],\n",
       "       [ 0.  ,  0.  ,  0.  ,  0.  , -0.25,  0.25,  0.  , -0.25,  0.25],\n",
       "       [ 0.  ,  0.  ,  0.  ,  0.5 ,  0.  , -0.5 ,  0.5 ,  0.  , -0.5 ],\n",
       "       [ 0.  ,  0.  ,  0.  ,  0.  ,  0.25,  0.25,  0.  ,  0.25,  0.25]])"
      ]
     },
     "execution_count": 188,
     "metadata": {},
     "output_type": "execute_result"
    }
   ],
   "source": [
    "M = np.zeros((9,9), dtype=int)\n",
    "for a in range(3):\n",
    "    for b in range(3):\n",
    "        for i in {-1,0,1}:\n",
    "            for j in {-1,0,1}:\n",
    "                M[oid(a,b),fid(i,j)] = (i**a)*(j**b)\n",
    "Mi = np.linalg.inv(M)\n",
    "Mi"
   ]
  },
  {
   "cell_type": "code",
   "execution_count": 189,
   "metadata": {},
   "outputs": [
    {
     "data": {
      "text/plain": [
       "array([[ 1,  1,  1,  1,  1,  1,  1,  1,  1],\n",
       "       [-1,  0,  1, -1,  0,  1, -1,  0,  1],\n",
       "       [ 1,  0,  1,  1,  0,  1,  1,  0,  1],\n",
       "       [-1, -1, -1,  0,  0,  0,  1,  1,  1],\n",
       "       [ 1,  0, -1,  0,  0,  0, -1,  0,  1],\n",
       "       [-1,  0, -1,  0,  0,  0,  1,  0,  1],\n",
       "       [ 1,  1,  1,  0,  0,  0,  1,  1,  1],\n",
       "       [-1,  0,  1,  0,  0,  0, -1,  0,  1],\n",
       "       [ 1,  0,  1,  0,  0,  0,  1,  0,  1]])"
      ]
     },
     "execution_count": 189,
     "metadata": {},
     "output_type": "execute_result"
    }
   ],
   "source": [
    "M"
   ]
  },
  {
   "cell_type": "code",
   "execution_count": 190,
   "metadata": {},
   "outputs": [
    {
     "data": {
      "text/plain": [
       "array([f[0] + f[1] + f[2] + f[3] + f[4] + f[5] + f[6] + f[7] + f[8],\n",
       "       -f[0] + f[2] - f[3] + f[5] - f[6] + f[8],\n",
       "       f[0] + f[2] + f[3] + f[5] + f[6] + f[8],\n",
       "       -f[0] - f[1] - f[2] + f[6] + f[7] + f[8],\n",
       "       f[0] - f[2] - f[6] + f[8], -f[0] - f[2] + f[6] + f[8],\n",
       "       f[0] + f[1] + f[2] + f[6] + f[7] + f[8],\n",
       "       -f[0] + f[2] - f[6] + f[8], f[0] + f[2] + f[6] + f[8]],\n",
       "      dtype=object)"
      ]
     },
     "execution_count": 190,
     "metadata": {},
     "output_type": "execute_result"
    }
   ],
   "source": [
    "M@f"
   ]
  },
  {
   "cell_type": "code",
   "execution_count": 191,
   "metadata": {},
   "outputs": [
    {
     "data": {
      "text/plain": [
       "array([0.25*m[4] - 0.25*m[5] - 0.25*m[7] + 0.25*m[8],\n",
       "       -0.5*m[3] + 0.5*m[5] + 0.5*m[6] - 0.5*m[8],\n",
       "       -0.25*m[4] - 0.25*m[5] + 0.25*m[7] + 0.25*m[8],\n",
       "       -0.5*m[1] + 0.5*m[2] + 0.5*m[7] - 0.5*m[8],\n",
       "       1.0*m[0] - 1.0*m[2] - 1.0*m[6] + 1.0*m[8],\n",
       "       0.5*m[1] + 0.5*m[2] - 0.5*m[7] - 0.5*m[8],\n",
       "       -0.25*m[4] + 0.25*m[5] - 0.25*m[7] + 0.25*m[8],\n",
       "       0.5*m[3] - 0.5*m[5] + 0.5*m[6] - 0.5*m[8],\n",
       "       0.25*m[4] + 0.25*m[5] + 0.25*m[7] + 0.25*m[8]], dtype=object)"
      ]
     },
     "execution_count": 191,
     "metadata": {},
     "output_type": "execute_result"
    }
   ],
   "source": [
    "Mi@m"
   ]
  },
  {
   "cell_type": "code",
   "execution_count": 192,
   "metadata": {},
   "outputs": [
    {
     "data": {
      "text/plain": [
       "array([m[0], -m[0]*v + m[1], m[0]*v**2 - 2*m[1]*v + m[2], -m[0]*u + m[3],\n",
       "       -m[3]*v + m[4] - u*(-m[0]*v + m[1]),\n",
       "       m[3]*v**2 - 2*m[4]*v + m[5] - u*(m[0]*v**2 - 2*m[1]*v + m[2]),\n",
       "       m[0]*u**2 - 2*m[3]*u + m[6],\n",
       "       -m[6]*v + m[7] + u**2*(-m[0]*v + m[1]) - 2*u*(-m[3]*v + m[4]),\n",
       "       m[6]*v**2 - 2*m[7]*v + m[8] + u**2*(m[0]*v**2 - 2*m[1]*v + m[2]) - 2*u*(m[3]*v**2 - 2*m[4]*v + m[5])],\n",
       "      dtype=object)"
      ]
     },
     "execution_count": 192,
     "metadata": {},
     "output_type": "execute_result"
    }
   ],
   "source": [
    "k = np.ndarray(9, dtype=object)\n",
    "for i in range(9):\n",
    "    k[i] = sp.Symbol(f'k[{i}]')\n",
    "kt = np.ndarray(9, dtype=object)\n",
    "u, v = sp.symbols('u v')\n",
    "for a in range(3):\n",
    "    for beta in range(3):\n",
    "        sum = 0\n",
    "        for b in range(beta+1):\n",
    "            sum += math.comb(beta, b)*(-v)**(beta - b)*m[oid(a,b)]\n",
    "        kt[oid(a,beta)] = sum\n",
    "for alpha in range(3):\n",
    "    for beta in range(3):\n",
    "        sum = 0\n",
    "        for a in range(alpha+1):\n",
    "            sum += math.comb(alpha, a)*(-u)**(alpha - a)*kt[oid(a,beta)]\n",
    "        k[oid(alpha,beta)] = sum\n",
    "k\n"
   ]
  },
  {
   "cell_type": "code",
   "execution_count": 193,
   "metadata": {},
   "outputs": [
    {
     "data": {
      "text/plain": [
       "array([k[0], k[0]*v + k[1], k[0]*v**2 + 2*k[1]*v + k[2], k[0]*u + k[3],\n",
       "       k[3]*v + k[4] + u*(k[0]*v + k[1]),\n",
       "       k[3]*v**2 + 2*k[4]*v + k[5] + u*(k[0]*v**2 + 2*k[1]*v + k[2]),\n",
       "       k[0]*u**2 + 2*k[3]*u + k[6],\n",
       "       k[6]*v + k[7] + u**2*(k[0]*v + k[1]) + 2*u*(k[3]*v + k[4]),\n",
       "       k[6]*v**2 + 2*k[7]*v + k[8] + u**2*(k[0]*v**2 + 2*k[1]*v + k[2]) + 2*u*(k[3]*v**2 + 2*k[4]*v + k[5])],\n",
       "      dtype=object)"
      ]
     },
     "execution_count": 193,
     "metadata": {},
     "output_type": "execute_result"
    }
   ],
   "source": [
    "k_ = np.ndarray(9, dtype=object)\n",
    "for i in range(9):\n",
    "    k_[i] = sp.Symbol(f'k[{i}]')\n",
    "mt_ = np.ndarray(9, dtype=object)\n",
    "m_ = np.ndarray(9, dtype=object)\n",
    "for a in range(3):\n",
    "    for beta in range(3):\n",
    "        sum = 0\n",
    "        for b in range(beta+1):\n",
    "            sum += math.comb(beta, b)*(v)**(beta - b)*k_[oid(a,b)]\n",
    "        mt_[oid(a,beta)] = sum\n",
    "for alpha in range(3):\n",
    "    for beta in range(3):\n",
    "        sum = 0\n",
    "        for a in range(alpha+1):\n",
    "            sum += math.comb(alpha, a)*(u)**(alpha - a)*mt_[oid(a,beta)]\n",
    "        m_[oid(alpha,beta)] = sum\n",
    "\n",
    "m_"
   ]
  },
  {
   "cell_type": "code",
   "execution_count": 194,
   "metadata": {},
   "outputs": [
    {
     "data": {
      "text/latex": [
       "$\\displaystyle \\left[\\begin{matrix}k[0] & k[0] v + k[1] & k[0] v^{2} + 2 k[1] v + k[2] & k[0] u + k[3] & k[3] v + k[4] + u \\left(k[0] v + k[1]\\right) & k[3] v^{2} + 2 k[4] v + k[5] + u \\left(k[0] v^{2} + 2 k[1] v + k[2]\\right) & k[0] u^{2} + 2 k[3] u + k[6] & k[6] v + k[7] + u^{2} \\left(k[0] v + k[1]\\right) + 2 u \\left(k[3] v + k[4]\\right) & k[6] v^{2} + 2 k[7] v + k[8] + u^{2} \\left(k[0] v^{2} + 2 k[1] v + k[2]\\right) + 2 u \\left(k[3] v^{2} + 2 k[4] v + k[5]\\right)\\end{matrix}\\right]$"
      ],
      "text/plain": [
       "[k[0], k[0]*v + k[1], k[0]*v**2 + 2*k[1]*v + k[2], k[0]*u + k[3], k[3]*v + k[4] + u*(k[0]*v + k[1]), k[3]*v**2 + 2*k[4]*v + k[5] + u*(k[0]*v**2 + 2*k[1]*v + k[2]), k[0]*u**2 + 2*k[3]*u + k[6], k[6]*v + k[7] + u**2*(k[0]*v + k[1]) + 2*u*(k[3]*v + k[4]), k[6]*v**2 + 2*k[7]*v + k[8] + u**2*(k[0]*v**2 + 2*k[1]*v + k[2]) + 2*u*(k[3]*v**2 + 2*k[4]*v + k[5])]"
      ]
     },
     "execution_count": 194,
     "metadata": {},
     "output_type": "execute_result"
    }
   ],
   "source": [
    "sp.simplify(m_)"
   ]
  },
  {
   "cell_type": "code",
   "execution_count": null,
   "metadata": {},
   "outputs": [],
   "source": []
  }
 ],
 "metadata": {
  "kernelspec": {
   "display_name": "Python 3",
   "language": "python",
   "name": "python3"
  },
  "language_info": {
   "codemirror_mode": {
    "name": "ipython",
    "version": 3
   },
   "file_extension": ".py",
   "mimetype": "text/x-python",
   "name": "python",
   "nbconvert_exporter": "python",
   "pygments_lexer": "ipython3",
   "version": "3.10.12"
  }
 },
 "nbformat": 4,
 "nbformat_minor": 2
}
