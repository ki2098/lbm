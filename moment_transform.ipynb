{
 "cells": [
  {
   "cell_type": "code",
   "execution_count": 1,
   "metadata": {},
   "outputs": [],
   "source": [
    "import sympy as sp\n",
    "import numpy as np\n",
    "import math"
   ]
  },
  {
   "cell_type": "code",
   "execution_count": 2,
   "metadata": {},
   "outputs": [],
   "source": [
    "def pdf(i,j):\n",
    "    return (i+1)*3+j+1\n",
    "\n",
    "def cmk(a,b):\n",
    "    return a*3+b"
   ]
  },
  {
   "cell_type": "code",
   "execution_count": 3,
   "metadata": {},
   "outputs": [],
   "source": [
    "f = np.ndarray(9, dtype=object)\n",
    "for i in range(9):\n",
    "    f[i] = sp.Symbol(f'f[{i}]')\n"
   ]
  },
  {
   "cell_type": "code",
   "execution_count": 4,
   "metadata": {},
   "outputs": [],
   "source": [
    "m = np.ndarray(9, dtype=object)\n",
    "for i in range(9):\n",
    "    m[i] = sp.Symbol(f'm[{i}]')"
   ]
  },
  {
   "cell_type": "code",
   "execution_count": 5,
   "metadata": {},
   "outputs": [
    {
     "data": {
      "text/plain": [
       "array([[ 1,  1,  1,  1,  1,  1,  1,  1,  1],\n",
       "       [-1,  0,  1, -1,  0,  1, -1,  0,  1],\n",
       "       [ 1,  0,  1,  1,  0,  1,  1,  0,  1],\n",
       "       [-1, -1, -1,  0,  0,  0,  1,  1,  1],\n",
       "       [ 1,  0, -1,  0,  0,  0, -1,  0,  1],\n",
       "       [-1,  0, -1,  0,  0,  0,  1,  0,  1],\n",
       "       [ 1,  1,  1,  0,  0,  0,  1,  1,  1],\n",
       "       [-1,  0,  1,  0,  0,  0, -1,  0,  1],\n",
       "       [ 1,  0,  1,  0,  0,  0,  1,  0,  1]])"
      ]
     },
     "execution_count": 5,
     "metadata": {},
     "output_type": "execute_result"
    }
   ],
   "source": [
    "M = np.zeros((9,9), dtype=int)\n",
    "for a in range(3):\n",
    "    for b in range(3):\n",
    "        for i in {-1,0,1}:\n",
    "            for j in {-1,0,1}:\n",
    "                M[cmk(a,b),pdf(i,j)] = (i**a)*(j**b)\n",
    "M"
   ]
  },
  {
   "cell_type": "code",
   "execution_count": 6,
   "metadata": {},
   "outputs": [
    {
     "data": {
      "text/plain": [
       "array([[ 0.  ,  0.  ,  0.  ,  0.  ,  0.25, -0.25,  0.  , -0.25,  0.25],\n",
       "       [ 0.  ,  0.  ,  0.  , -0.5 ,  0.  ,  0.5 ,  0.5 ,  0.  , -0.5 ],\n",
       "       [ 0.  ,  0.  ,  0.  ,  0.  , -0.25, -0.25,  0.  ,  0.25,  0.25],\n",
       "       [ 0.  , -0.5 ,  0.5 ,  0.  ,  0.  ,  0.  ,  0.  ,  0.5 , -0.5 ],\n",
       "       [ 1.  ,  0.  , -1.  ,  0.  ,  0.  ,  0.  , -1.  ,  0.  ,  1.  ],\n",
       "       [ 0.  ,  0.5 ,  0.5 ,  0.  ,  0.  ,  0.  ,  0.  , -0.5 , -0.5 ],\n",
       "       [ 0.  ,  0.  ,  0.  ,  0.  , -0.25,  0.25,  0.  , -0.25,  0.25],\n",
       "       [ 0.  ,  0.  ,  0.  ,  0.5 ,  0.  , -0.5 ,  0.5 ,  0.  , -0.5 ],\n",
       "       [ 0.  ,  0.  ,  0.  ,  0.  ,  0.25,  0.25,  0.  ,  0.25,  0.25]])"
      ]
     },
     "execution_count": 6,
     "metadata": {},
     "output_type": "execute_result"
    }
   ],
   "source": [
    "Mi = np.linalg.inv(M)\n",
    "Mi"
   ]
  },
  {
   "cell_type": "code",
   "execution_count": 7,
   "metadata": {},
   "outputs": [
    {
     "data": {
      "text/plain": [
       "array([[1., 0., 0., 0., 0., 0., 0., 0., 0.],\n",
       "       [0., 1., 0., 0., 0., 0., 0., 0., 0.],\n",
       "       [0., 0., 1., 0., 0., 0., 0., 0., 0.],\n",
       "       [0., 0., 0., 1., 0., 0., 0., 0., 0.],\n",
       "       [0., 0., 0., 0., 1., 0., 0., 0., 0.],\n",
       "       [0., 0., 0., 0., 0., 1., 0., 0., 0.],\n",
       "       [0., 0., 0., 0., 0., 0., 1., 0., 0.],\n",
       "       [0., 0., 0., 0., 0., 0., 0., 1., 0.],\n",
       "       [0., 0., 0., 0., 0., 0., 0., 0., 1.]])"
      ]
     },
     "execution_count": 7,
     "metadata": {},
     "output_type": "execute_result"
    }
   ],
   "source": [
    "Mi@M"
   ]
  },
  {
   "cell_type": "code",
   "execution_count": 8,
   "metadata": {},
   "outputs": [
    {
     "data": {
      "text/plain": [
       "array([f[0] + f[1] + f[2] + f[3] + f[4] + f[5] + f[6] + f[7] + f[8],\n",
       "       -f[0] + f[2] - f[3] + f[5] - f[6] + f[8],\n",
       "       f[0] + f[2] + f[3] + f[5] + f[6] + f[8],\n",
       "       -f[0] - f[1] - f[2] + f[6] + f[7] + f[8],\n",
       "       f[0] - f[2] - f[6] + f[8], -f[0] - f[2] + f[6] + f[8],\n",
       "       f[0] + f[1] + f[2] + f[6] + f[7] + f[8],\n",
       "       -f[0] + f[2] - f[6] + f[8], f[0] + f[2] + f[6] + f[8]],\n",
       "      dtype=object)"
      ]
     },
     "execution_count": 8,
     "metadata": {},
     "output_type": "execute_result"
    }
   ],
   "source": [
    "M@f"
   ]
  },
  {
   "cell_type": "code",
   "execution_count": 20,
   "metadata": {},
   "outputs": [
    {
     "data": {
      "text/plain": [
       "array([0.25*(m[4] - m[5] - m[7] + m[8]), -0.5*(m[3] - m[5] - m[6] + m[8]),\n",
       "       -0.25*(m[4] + m[5] - m[7] - m[8]),\n",
       "       -0.5*(m[1] - m[2] - m[7] + m[8]), 1.0*(m[0] - m[2] - m[6] + m[8]),\n",
       "       0.5*(m[1] + m[2] - m[7] - m[8]), -0.25*(m[4] - m[5] + m[7] - m[8]),\n",
       "       0.5*(m[3] - m[5] + m[6] - m[8]), 0.25*(m[4] + m[5] + m[7] + m[8])],\n",
       "      dtype=object)"
      ]
     },
     "execution_count": 20,
     "metadata": {},
     "output_type": "execute_result"
    }
   ],
   "source": [
    "np.asarray(sp.factor(Mi@m))"
   ]
  },
  {
   "cell_type": "code",
   "execution_count": 10,
   "metadata": {},
   "outputs": [],
   "source": [
    "k = np.ndarray(9, dtype=object)\n",
    "for i in range(9):\n",
    "    k[i] = sp.Symbol(f'k[{i}]')\n",
    "u, v = sp.symbols('u v')\n"
   ]
  },
  {
   "cell_type": "code",
   "execution_count": 21,
   "metadata": {},
   "outputs": [
    {
     "data": {
      "text/plain": [
       "array([[1, 0, 0, 0, 0, 0, 0, 0, 0],\n",
       "       [-v, 1, 0, 0, 0, 0, 0, 0, 0],\n",
       "       [v**2, -2*v, 1, 0, 0, 0, 0, 0, 0],\n",
       "       [0, 0, 0, 1, 0, 0, 0, 0, 0],\n",
       "       [0, 0, 0, -v, 1, 0, 0, 0, 0],\n",
       "       [0, 0, 0, v**2, -2*v, 1, 0, 0, 0],\n",
       "       [0, 0, 0, 0, 0, 0, 1, 0, 0],\n",
       "       [0, 0, 0, 0, 0, 0, -v, 1, 0],\n",
       "       [0, 0, 0, 0, 0, 0, v**2, -2*v, 1]], dtype=object)"
      ]
     },
     "execution_count": 21,
     "metadata": {},
     "output_type": "execute_result"
    }
   ],
   "source": [
    "K_ = np.ndarray((9,9), dtype=object)\n",
    "for a in range(3):\n",
    "    for b in range(3):\n",
    "        for i in range(3):\n",
    "            for j in range(3):\n",
    "                if i != a:\n",
    "                    K_[cmk(a,b), cmk(i,j)] = 0\n",
    "                else:\n",
    "                    K_[cmk(a,b), cmk(i,j)] = math.comb(b,j)*(-v)**(b-j)\n",
    "\n",
    "K_"
   ]
  },
  {
   "cell_type": "code",
   "execution_count": 22,
   "metadata": {},
   "outputs": [
    {
     "data": {
      "text/plain": [
       "array([m[0], -m[0]*v + m[1], m[0]*v**2 - 2*m[1]*v + m[2], -m[0]*u + m[3],\n",
       "       -m[3]*v + m[4] + u*(m[0]*v - m[1]),\n",
       "       m[3]*v**2 - 2*m[4]*v + m[5] - u*(m[0]*v**2 - 2*m[1]*v + m[2]),\n",
       "       m[0]*u**2 - 2*m[3]*u + m[6],\n",
       "       -m[6]*v + m[7] + u**2*(-m[0]*v + m[1]) + 2*u*(m[3]*v - m[4]),\n",
       "       m[6]*v**2 - 2*m[7]*v + m[8] + u**2*(m[0]*v**2 - 2*m[1]*v + m[2]) - 2*u*(m[3]*v**2 - 2*m[4]*v + m[5])],\n",
       "      dtype=object)"
      ]
     },
     "execution_count": 22,
     "metadata": {},
     "output_type": "execute_result"
    }
   ],
   "source": [
    "K = np.ndarray((9,9), dtype=object)\n",
    "for a in range(3):\n",
    "    for b in range(3):\n",
    "        for i in range(3):\n",
    "            for j in range(3):\n",
    "                if j != b:\n",
    "                    K[cmk(a,b), cmk(i,j)] = 0\n",
    "                else:\n",
    "                    K[cmk(a,b), cmk(i,j)] = math.comb(a,i)*(-u)**(a-i)\n",
    "\n",
    "tmp = K@K_@m\n",
    "for i in range(9):\n",
    "    tmp[i] = sp.simplify(sp.collect(sp.collect(tmp[i], u), v))\n",
    "np.asarray(tmp)"
   ]
  },
  {
   "cell_type": "code",
   "execution_count": 23,
   "metadata": {},
   "outputs": [],
   "source": [
    "L_ = np.ndarray((9,9), dtype=object)\n",
    "for a in range(3):\n",
    "    for b in range(3):\n",
    "        for i in range(3):\n",
    "            for j in range(3):\n",
    "                if i != a:\n",
    "                    L_[cmk(a,b), cmk(i,j)] = 0\n",
    "                else:\n",
    "                    L_[cmk(a,b), cmk(i,j)] = math.comb(b,j)*(v)**(b-j)"
   ]
  },
  {
   "cell_type": "code",
   "execution_count": 24,
   "metadata": {},
   "outputs": [
    {
     "data": {
      "text/plain": [
       "array([k[0], k[0]*v + k[1], k[0]*v**2 + 2*k[1]*v + k[2], k[0]*u + k[3],\n",
       "       k[3]*v + k[4] + u*(k[0]*v + k[1]),\n",
       "       k[3]*v**2 + 2*k[4]*v + k[5] + u*(k[0]*v**2 + 2*k[1]*v + k[2]),\n",
       "       k[0]*u**2 + 2*k[3]*u + k[6],\n",
       "       k[6]*v + k[7] + u**2*(k[0]*v + k[1]) + 2*u*(k[3]*v + k[4]),\n",
       "       k[6]*v**2 + 2*k[7]*v + k[8] + u**2*(k[0]*v**2 + 2*k[1]*v + k[2]) + 2*u*(k[3]*v**2 + 2*k[4]*v + k[5])],\n",
       "      dtype=object)"
      ]
     },
     "execution_count": 24,
     "metadata": {},
     "output_type": "execute_result"
    }
   ],
   "source": [
    "L = np.ndarray((9,9), dtype=object)\n",
    "for a in range(3):\n",
    "    for b in range(3):\n",
    "        for i in range(3):\n",
    "            for j in range(3):\n",
    "                if j != b:\n",
    "                    L[cmk(a,b), cmk(i,j)] = 0\n",
    "                else:\n",
    "                    L[cmk(a,b), cmk(i,j)] = math.comb(a,i)*(u)**(a-i)\n",
    "\n",
    "tmp = L@L_@k\n",
    "for i in range(9):\n",
    "    tmp[i] = sp.simplify(sp.collect(sp.collect(tmp[i], u), v))\n",
    "np.asarray(tmp)"
   ]
  },
  {
   "cell_type": "code",
   "execution_count": 15,
   "metadata": {},
   "outputs": [
    {
     "data": {
      "text/plain": [
       "array([m[0], m[1], m[2], m[3], m[4], m[5], m[6], m[7], m[8]], dtype=object)"
      ]
     },
     "execution_count": 15,
     "metadata": {},
     "output_type": "execute_result"
    }
   ],
   "source": [
    "L@L_@K@K_@m"
   ]
  },
  {
   "cell_type": "code",
   "execution_count": 16,
   "metadata": {},
   "outputs": [
    {
     "name": "stdout",
     "output_type": "stream",
     "text": [
      "\\mathtt{\\text{[[ 0.    0.    0.    0.    0.25 -0.25  0.   -0.25  0.25]\n",
      " [ 0.    0.    0.   -0.5   0.    0.5   0.5   0.   -0.5 ]\n",
      " [ 0.    0.    0.    0.   -0.25 -0.25  0.    0.25  0.25]\n",
      " [ 0.   -0.5   0.5   0.    0.    0.    0.    0.5  -0.5 ]\n",
      " [ 1.    0.   -1.    0.    0.    0.   -1.    0.    1.  ]\n",
      " [ 0.    0.5   0.5   0.    0.    0.    0.   -0.5  -0.5 ]\n",
      " [ 0.    0.    0.    0.   -0.25  0.25  0.   -0.25  0.25]\n",
      " [ 0.    0.    0.    0.5   0.   -0.5   0.5   0.   -0.5 ]\n",
      " [ 0.    0.    0.    0.    0.25  0.25  0.    0.25  0.25]]}}\n"
     ]
    }
   ],
   "source": [
    "sp.print_latex(Mi)"
   ]
  },
  {
   "cell_type": "code",
   "execution_count": null,
   "metadata": {},
   "outputs": [],
   "source": []
  }
 ],
 "metadata": {
  "kernelspec": {
   "display_name": "Python 3",
   "language": "python",
   "name": "python3"
  },
  "language_info": {
   "codemirror_mode": {
    "name": "ipython",
    "version": 3
   },
   "file_extension": ".py",
   "mimetype": "text/x-python",
   "name": "python",
   "nbconvert_exporter": "python",
   "pygments_lexer": "ipython3",
   "version": "3.10.12"
  }
 },
 "nbformat": 4,
 "nbformat_minor": 2
}
