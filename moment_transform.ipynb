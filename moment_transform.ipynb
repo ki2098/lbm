{
 "cells": [
  {
   "cell_type": "code",
   "execution_count": 1,
   "metadata": {},
   "outputs": [],
   "source": [
    "import sympy as sp\n",
    "import numpy as np\n",
    "import math"
   ]
  },
  {
   "cell_type": "code",
   "execution_count": 2,
   "metadata": {},
   "outputs": [],
   "source": [
    "def pdf(i,j):\n",
    "    return (i+1)*3+j+1\n",
    "\n",
    "def cmk(a,b):\n",
    "    return a*3+b"
   ]
  },
  {
   "cell_type": "code",
   "execution_count": 3,
   "metadata": {},
   "outputs": [],
   "source": [
    "f = np.ndarray(9, dtype=object)\n",
    "for i in range(9):\n",
    "    f[i] = sp.Symbol(f'f[{i}]')\n"
   ]
  },
  {
   "cell_type": "code",
   "execution_count": 4,
   "metadata": {},
   "outputs": [],
   "source": [
    "m = np.ndarray(9, dtype=object)\n",
    "for i in range(9):\n",
    "    m[i] = sp.Symbol(f'm[{i}]')"
   ]
  },
  {
   "cell_type": "code",
   "execution_count": 5,
   "metadata": {},
   "outputs": [
    {
     "data": {
      "text/latex": [
       "$\\displaystyle \\left[\\begin{matrix}1 & 1 & 1 & 1 & 1 & 1 & 1 & 1 & 1\\\\-1 & 0 & 1 & -1 & 0 & 1 & -1 & 0 & 1\\\\1 & 0 & 1 & 1 & 0 & 1 & 1 & 0 & 1\\\\-1 & -1 & -1 & 0 & 0 & 0 & 1 & 1 & 1\\\\1 & 0 & -1 & 0 & 0 & 0 & -1 & 0 & 1\\\\-1 & 0 & -1 & 0 & 0 & 0 & 1 & 0 & 1\\\\1 & 1 & 1 & 0 & 0 & 0 & 1 & 1 & 1\\\\-1 & 0 & 1 & 0 & 0 & 0 & -1 & 0 & 1\\\\1 & 0 & 1 & 0 & 0 & 0 & 1 & 0 & 1\\end{matrix}\\right]$"
      ],
      "text/plain": [
       "Matrix([\n",
       "[ 1,  1,  1,  1, 1, 1,  1, 1, 1],\n",
       "[-1,  0,  1, -1, 0, 1, -1, 0, 1],\n",
       "[ 1,  0,  1,  1, 0, 1,  1, 0, 1],\n",
       "[-1, -1, -1,  0, 0, 0,  1, 1, 1],\n",
       "[ 1,  0, -1,  0, 0, 0, -1, 0, 1],\n",
       "[-1,  0, -1,  0, 0, 0,  1, 0, 1],\n",
       "[ 1,  1,  1,  0, 0, 0,  1, 1, 1],\n",
       "[-1,  0,  1,  0, 0, 0, -1, 0, 1],\n",
       "[ 1,  0,  1,  0, 0, 0,  1, 0, 1]])"
      ]
     },
     "execution_count": 5,
     "metadata": {},
     "output_type": "execute_result"
    }
   ],
   "source": [
    "M = np.zeros((9,9), dtype=int)\n",
    "for a in range(3):\n",
    "    for b in range(3):\n",
    "        for i in {-1,0,1}:\n",
    "            for j in {-1,0,1}:\n",
    "                M[cmk(a,b),pdf(i,j)] = (i**a)*(j**b)\n",
    "M = sp.Matrix(M)\n",
    "M"
   ]
  },
  {
   "cell_type": "code",
   "execution_count": 6,
   "metadata": {},
   "outputs": [
    {
     "data": {
      "text/latex": [
       "$\\displaystyle \\left[\\begin{matrix}0 & 0 & 0 & 0 & \\frac{1}{4} & - \\frac{1}{4} & 0 & - \\frac{1}{4} & \\frac{1}{4}\\\\0 & 0 & 0 & - \\frac{1}{2} & 0 & \\frac{1}{2} & \\frac{1}{2} & 0 & - \\frac{1}{2}\\\\0 & 0 & 0 & 0 & - \\frac{1}{4} & - \\frac{1}{4} & 0 & \\frac{1}{4} & \\frac{1}{4}\\\\0 & - \\frac{1}{2} & \\frac{1}{2} & 0 & 0 & 0 & 0 & \\frac{1}{2} & - \\frac{1}{2}\\\\1 & 0 & -1 & 0 & 0 & 0 & -1 & 0 & 1\\\\0 & \\frac{1}{2} & \\frac{1}{2} & 0 & 0 & 0 & 0 & - \\frac{1}{2} & - \\frac{1}{2}\\\\0 & 0 & 0 & 0 & - \\frac{1}{4} & \\frac{1}{4} & 0 & - \\frac{1}{4} & \\frac{1}{4}\\\\0 & 0 & 0 & \\frac{1}{2} & 0 & - \\frac{1}{2} & \\frac{1}{2} & 0 & - \\frac{1}{2}\\\\0 & 0 & 0 & 0 & \\frac{1}{4} & \\frac{1}{4} & 0 & \\frac{1}{4} & \\frac{1}{4}\\end{matrix}\\right]$"
      ],
      "text/plain": [
       "Matrix([\n",
       "[0,    0,   0,    0,  1/4, -1/4,   0, -1/4,  1/4],\n",
       "[0,    0,   0, -1/2,    0,  1/2, 1/2,    0, -1/2],\n",
       "[0,    0,   0,    0, -1/4, -1/4,   0,  1/4,  1/4],\n",
       "[0, -1/2, 1/2,    0,    0,    0,   0,  1/2, -1/2],\n",
       "[1,    0,  -1,    0,    0,    0,  -1,    0,    1],\n",
       "[0,  1/2, 1/2,    0,    0,    0,   0, -1/2, -1/2],\n",
       "[0,    0,   0,    0, -1/4,  1/4,   0, -1/4,  1/4],\n",
       "[0,    0,   0,  1/2,    0, -1/2, 1/2,    0, -1/2],\n",
       "[0,    0,   0,    0,  1/4,  1/4,   0,  1/4,  1/4]])"
      ]
     },
     "execution_count": 6,
     "metadata": {},
     "output_type": "execute_result"
    }
   ],
   "source": [
    "Mi = M.inv()\n",
    "Mi"
   ]
  },
  {
   "cell_type": "code",
   "execution_count": 7,
   "metadata": {},
   "outputs": [
    {
     "data": {
      "text/latex": [
       "$\\displaystyle \\left[\\begin{matrix}1 & 0 & 0 & 0 & 0 & 0 & 0 & 0 & 0\\\\0 & 1 & 0 & 0 & 0 & 0 & 0 & 0 & 0\\\\0 & 0 & 1 & 0 & 0 & 0 & 0 & 0 & 0\\\\0 & 0 & 0 & 1 & 0 & 0 & 0 & 0 & 0\\\\0 & 0 & 0 & 0 & 1 & 0 & 0 & 0 & 0\\\\0 & 0 & 0 & 0 & 0 & 1 & 0 & 0 & 0\\\\0 & 0 & 0 & 0 & 0 & 0 & 1 & 0 & 0\\\\0 & 0 & 0 & 0 & 0 & 0 & 0 & 1 & 0\\\\0 & 0 & 0 & 0 & 0 & 0 & 0 & 0 & 1\\end{matrix}\\right]$"
      ],
      "text/plain": [
       "Matrix([\n",
       "[1, 0, 0, 0, 0, 0, 0, 0, 0],\n",
       "[0, 1, 0, 0, 0, 0, 0, 0, 0],\n",
       "[0, 0, 1, 0, 0, 0, 0, 0, 0],\n",
       "[0, 0, 0, 1, 0, 0, 0, 0, 0],\n",
       "[0, 0, 0, 0, 1, 0, 0, 0, 0],\n",
       "[0, 0, 0, 0, 0, 1, 0, 0, 0],\n",
       "[0, 0, 0, 0, 0, 0, 1, 0, 0],\n",
       "[0, 0, 0, 0, 0, 0, 0, 1, 0],\n",
       "[0, 0, 0, 0, 0, 0, 0, 0, 1]])"
      ]
     },
     "execution_count": 7,
     "metadata": {},
     "output_type": "execute_result"
    }
   ],
   "source": [
    "Mi@M"
   ]
  },
  {
   "cell_type": "code",
   "execution_count": 8,
   "metadata": {},
   "outputs": [
    {
     "data": {
      "text/plain": [
       "array([f[0] + f[1] + f[2] + f[3] + f[4] + f[5] + f[6] + f[7] + f[8],\n",
       "       -f[0] + f[2] - f[3] + f[5] - f[6] + f[8],\n",
       "       f[0] + f[2] + f[3] + f[5] + f[6] + f[8],\n",
       "       -f[0] - f[1] - f[2] + f[6] + f[7] + f[8],\n",
       "       f[0] - f[2] - f[6] + f[8], -f[0] - f[2] + f[6] + f[8],\n",
       "       f[0] + f[1] + f[2] + f[6] + f[7] + f[8],\n",
       "       -f[0] + f[2] - f[6] + f[8], f[0] + f[2] + f[6] + f[8]],\n",
       "      dtype=object)"
      ]
     },
     "execution_count": 8,
     "metadata": {},
     "output_type": "execute_result"
    }
   ],
   "source": [
    "M@f"
   ]
  },
  {
   "cell_type": "code",
   "execution_count": 9,
   "metadata": {},
   "outputs": [
    {
     "data": {
      "text/plain": [
       "array([(m[4] - m[5] - m[7] + m[8])/4, -(m[3] - m[5] - m[6] + m[8])/2,\n",
       "       -(m[4] + m[5] - m[7] - m[8])/4, -(m[1] - m[2] - m[7] + m[8])/2,\n",
       "       m[0] - m[2] - m[6] + m[8], (m[1] + m[2] - m[7] - m[8])/2,\n",
       "       -(m[4] - m[5] + m[7] - m[8])/4, (m[3] - m[5] + m[6] - m[8])/2,\n",
       "       (m[4] + m[5] + m[7] + m[8])/4], dtype=object)"
      ]
     },
     "execution_count": 9,
     "metadata": {},
     "output_type": "execute_result"
    }
   ],
   "source": [
    "np.asarray(sp.factor(Mi@m))"
   ]
  },
  {
   "cell_type": "code",
   "execution_count": 10,
   "metadata": {},
   "outputs": [],
   "source": [
    "k = np.ndarray(9, dtype=object)\n",
    "for i in range(9):\n",
    "    k[i] = sp.Symbol(f'k[{i}]')\n",
    "u, v = sp.symbols('u v')\n"
   ]
  },
  {
   "cell_type": "code",
   "execution_count": 11,
   "metadata": {},
   "outputs": [
    {
     "data": {
      "text/latex": [
       "$\\displaystyle \\left[\\begin{matrix}1 & 0 & 0 & 0 & 0 & 0 & 0 & 0 & 0\\\\- v & 1 & 0 & 0 & 0 & 0 & 0 & 0 & 0\\\\v^{2} & - 2 v & 1 & 0 & 0 & 0 & 0 & 0 & 0\\\\- u & 0 & 0 & 1 & 0 & 0 & 0 & 0 & 0\\\\u v & - u & 0 & - v & 1 & 0 & 0 & 0 & 0\\\\- u v^{2} & 2 u v & - u & v^{2} & - 2 v & 1 & 0 & 0 & 0\\\\u^{2} & 0 & 0 & - 2 u & 0 & 0 & 1 & 0 & 0\\\\- u^{2} v & u^{2} & 0 & 2 u v & - 2 u & 0 & - v & 1 & 0\\\\u^{2} v^{2} & - 2 u^{2} v & u^{2} & - 2 u v^{2} & 4 u v & - 2 u & v^{2} & - 2 v & 1\\end{matrix}\\right]$"
      ],
      "text/plain": [
       "Matrix([\n",
       "[        1,         0,    0,         0,     0,    0,    0,    0, 0],\n",
       "[       -v,         1,    0,         0,     0,    0,    0,    0, 0],\n",
       "[     v**2,      -2*v,    1,         0,     0,    0,    0,    0, 0],\n",
       "[       -u,         0,    0,         1,     0,    0,    0,    0, 0],\n",
       "[      u*v,        -u,    0,        -v,     1,    0,    0,    0, 0],\n",
       "[  -u*v**2,     2*u*v,   -u,      v**2,  -2*v,    1,    0,    0, 0],\n",
       "[     u**2,         0,    0,      -2*u,     0,    0,    1,    0, 0],\n",
       "[  -u**2*v,      u**2,    0,     2*u*v,  -2*u,    0,   -v,    1, 0],\n",
       "[u**2*v**2, -2*u**2*v, u**2, -2*u*v**2, 4*u*v, -2*u, v**2, -2*v, 1]])"
      ]
     },
     "execution_count": 11,
     "metadata": {},
     "output_type": "execute_result"
    }
   ],
   "source": [
    "K = np.ndarray((9,9), dtype=object)\n",
    "for a in range(3):\n",
    "    for b in range(3):\n",
    "        for i in range(3):\n",
    "            for j in range(3):\n",
    "                if i<=a and j<=b:\n",
    "                    K[cmk(a,b), cmk(i,j)] = math.comb(a,i)*math.comb(b,j)*((-u)**(a-i))*((-v)**(b-j))\n",
    "                else:\n",
    "                    K[cmk(a,b), cmk(i,j)] = 0\n",
    "\n",
    "K = sp.Matrix(K)\n",
    "K"
   ]
  },
  {
   "cell_type": "code",
   "execution_count": 12,
   "metadata": {},
   "outputs": [
    {
     "name": "stdout",
     "output_type": "stream",
     "text": [
      "k[0] = m[0]\n",
      "k[1] = -m[0]*v + m[1]\n",
      "k[2] = m[0]*v**2 - 2*m[1]*v + m[2]\n",
      "k[3] = -m[0]*u + m[3]\n",
      "k[4] = -m[3]*v + m[4] + u*(m[0]*v - m[1])\n",
      "k[5] = m[3]*v**2 - 2*m[4]*v + m[5] - u*(m[0]*v**2 - 2*m[1]*v + m[2])\n",
      "k[6] = m[0]*u**2 - 2*m[3]*u + m[6]\n",
      "k[7] = -m[6]*v + m[7] + u**2*(-m[0]*v + m[1]) + 2*u*(m[3]*v - m[4])\n",
      "k[8] = m[6]*v**2 - 2*m[7]*v + m[8] + u**2*(m[0]*v**2 - 2*m[1]*v + m[2]) - 2*u*(m[3]*v**2 - 2*m[4]*v + m[5])\n"
     ]
    }
   ],
   "source": [
    "tmp = K@m\n",
    "for i in range(9):\n",
    "    tmp[i] = sp.simplify(sp.collect(sp.collect(tmp[i], u), v))\n",
    "for i, row in enumerate(tmp):\n",
    "    print(f'k[{i}] =', row)"
   ]
  },
  {
   "cell_type": "code",
   "execution_count": 13,
   "metadata": {},
   "outputs": [
    {
     "data": {
      "text/latex": [
       "$\\displaystyle \\left[\\begin{matrix}1 & 0 & 0 & 0 & 0 & 0 & 0 & 0 & 0\\\\v & 1 & 0 & 0 & 0 & 0 & 0 & 0 & 0\\\\v^{2} & 2 v & 1 & 0 & 0 & 0 & 0 & 0 & 0\\\\u & 0 & 0 & 1 & 0 & 0 & 0 & 0 & 0\\\\u v & u & 0 & v & 1 & 0 & 0 & 0 & 0\\\\u v^{2} & 2 u v & u & v^{2} & 2 v & 1 & 0 & 0 & 0\\\\u^{2} & 0 & 0 & 2 u & 0 & 0 & 1 & 0 & 0\\\\u^{2} v & u^{2} & 0 & 2 u v & 2 u & 0 & v & 1 & 0\\\\u^{2} v^{2} & 2 u^{2} v & u^{2} & 2 u v^{2} & 4 u v & 2 u & v^{2} & 2 v & 1\\end{matrix}\\right]$"
      ],
      "text/plain": [
       "Matrix([\n",
       "[        1,        0,    0,        0,     0,   0,    0,   0, 0],\n",
       "[        v,        1,    0,        0,     0,   0,    0,   0, 0],\n",
       "[     v**2,      2*v,    1,        0,     0,   0,    0,   0, 0],\n",
       "[        u,        0,    0,        1,     0,   0,    0,   0, 0],\n",
       "[      u*v,        u,    0,        v,     1,   0,    0,   0, 0],\n",
       "[   u*v**2,    2*u*v,    u,     v**2,   2*v,   1,    0,   0, 0],\n",
       "[     u**2,        0,    0,      2*u,     0,   0,    1,   0, 0],\n",
       "[   u**2*v,     u**2,    0,    2*u*v,   2*u,   0,    v,   1, 0],\n",
       "[u**2*v**2, 2*u**2*v, u**2, 2*u*v**2, 4*u*v, 2*u, v**2, 2*v, 1]])"
      ]
     },
     "execution_count": 13,
     "metadata": {},
     "output_type": "execute_result"
    }
   ],
   "source": [
    "Ki = K.inv()\n",
    "Ki"
   ]
  },
  {
   "cell_type": "code",
   "execution_count": 14,
   "metadata": {},
   "outputs": [
    {
     "name": "stdout",
     "output_type": "stream",
     "text": [
      "m[0] = k[0]\n",
      "m[1] = k[0]*v + k[1]\n",
      "m[2] = k[0]*v**2 + 2*k[1]*v + k[2]\n",
      "m[3] = k[0]*u + k[3]\n",
      "m[4] = k[3]*v + k[4] + u*(k[0]*v + k[1])\n",
      "m[5] = k[3]*v**2 + 2*k[4]*v + k[5] + u*(k[0]*v**2 + 2*k[1]*v + k[2])\n",
      "m[6] = k[0]*u**2 + 2*k[3]*u + k[6]\n",
      "m[7] = k[6]*v + k[7] + u**2*(k[0]*v + k[1]) + 2*u*(k[3]*v + k[4])\n",
      "m[8] = k[6]*v**2 + 2*k[7]*v + k[8] + u**2*(k[0]*v**2 + 2*k[1]*v + k[2]) + 2*u*(k[3]*v**2 + 2*k[4]*v + k[5])\n"
     ]
    }
   ],
   "source": [
    "tmp = Ki@k\n",
    "for i in range(9):\n",
    "    tmp[i] = sp.simplify(sp.collect(sp.collect(tmp[i], u), v))\n",
    "for i, row in enumerate(tmp):\n",
    "    print(f'm[{i}] =', row)"
   ]
  },
  {
   "cell_type": "code",
   "execution_count": 15,
   "metadata": {},
   "outputs": [
    {
     "data": {
      "text/plain": [
       "array([m[0], m[1], m[2], m[3], m[4], m[5], m[6], m[7], m[8]], dtype=object)"
      ]
     },
     "execution_count": 15,
     "metadata": {},
     "output_type": "execute_result"
    }
   ],
   "source": [
    "Ki@K@m"
   ]
  },
  {
   "cell_type": "code",
   "execution_count": 16,
   "metadata": {},
   "outputs": [
    {
     "name": "stdout",
     "output_type": "stream",
     "text": [
      "\\left[\\begin{matrix}0 & 0 & 0 & 0 & \\frac{1}{4} & - \\frac{1}{4} & 0 & - \\frac{1}{4} & \\frac{1}{4}\\\\0 & 0 & 0 & - \\frac{1}{2} & 0 & \\frac{1}{2} & \\frac{1}{2} & 0 & - \\frac{1}{2}\\\\0 & 0 & 0 & 0 & - \\frac{1}{4} & - \\frac{1}{4} & 0 & \\frac{1}{4} & \\frac{1}{4}\\\\0 & - \\frac{1}{2} & \\frac{1}{2} & 0 & 0 & 0 & 0 & \\frac{1}{2} & - \\frac{1}{2}\\\\1 & 0 & -1 & 0 & 0 & 0 & -1 & 0 & 1\\\\0 & \\frac{1}{2} & \\frac{1}{2} & 0 & 0 & 0 & 0 & - \\frac{1}{2} & - \\frac{1}{2}\\\\0 & 0 & 0 & 0 & - \\frac{1}{4} & \\frac{1}{4} & 0 & - \\frac{1}{4} & \\frac{1}{4}\\\\0 & 0 & 0 & \\frac{1}{2} & 0 & - \\frac{1}{2} & \\frac{1}{2} & 0 & - \\frac{1}{2}\\\\0 & 0 & 0 & 0 & \\frac{1}{4} & \\frac{1}{4} & 0 & \\frac{1}{4} & \\frac{1}{4}\\end{matrix}\\right]\n"
     ]
    }
   ],
   "source": [
    "sp.print_latex(Mi)"
   ]
  },
  {
   "cell_type": "code",
   "execution_count": 17,
   "metadata": {},
   "outputs": [],
   "source": [
    "ceq = np.ndarray(9, dtype=object)\n",
    "rho = sp.Symbol('ρ')\n",
    "csq = sp.Rational(1, 3)"
   ]
  },
  {
   "cell_type": "code",
   "execution_count": 18,
   "metadata": {},
   "outputs": [
    {
     "data": {
      "text/plain": [
       "array([ρ, v*ρ, ρ/3, u*ρ, 0, 0, ρ/3, 0, 0], dtype=object)"
      ]
     },
     "execution_count": 18,
     "metadata": {},
     "output_type": "execute_result"
    }
   ],
   "source": [
    "ceq[0] = rho\n",
    "ceq[1] = rho*v\n",
    "ceq[2] = csq*rho\n",
    "ceq[3] = rho*u\n",
    "ceq[4] = 0\n",
    "ceq[5] = 0\n",
    "ceq[6] = csq*rho\n",
    "ceq[7] = 0\n",
    "ceq[8] = 0\n",
    "ceq"
   ]
  },
  {
   "cell_type": "code",
   "execution_count": 19,
   "metadata": {},
   "outputs": [
    {
     "data": {
      "text/plain": [
       "array([ρ, 0, ρ/3, 0, 0, 0, ρ/3, 0, ρ/9], dtype=object)"
      ]
     },
     "execution_count": 19,
     "metadata": {},
     "output_type": "execute_result"
    }
   ],
   "source": [
    "keq = np.ndarray(9, dtype=object)\n",
    "keq[0] = ceq[0]\n",
    "keq[1] = 0\n",
    "keq[3] = 0\n",
    "keq[2] = ceq[2]\n",
    "keq[4] = ceq[4]\n",
    "keq[6] = ceq[6]\n",
    "keq[5] = ceq[5]\n",
    "keq[7] = ceq[7]\n",
    "keq[8] = ceq[8] + (2*keq[4]*keq[4] + keq[6]*keq[2])/keq[0]\n",
    "keq"
   ]
  },
  {
   "cell_type": "code",
   "execution_count": 20,
   "metadata": {},
   "outputs": [
    {
     "ename": "NameError",
     "evalue": "name 'L' is not defined",
     "output_type": "error",
     "traceback": [
      "\u001b[31m---------------------------------------------------------------------------\u001b[39m",
      "\u001b[31mNameError\u001b[39m                                 Traceback (most recent call last)",
      "\u001b[36mCell\u001b[39m\u001b[36m \u001b[39m\u001b[32mIn[20]\u001b[39m\u001b[32m, line 1\u001b[39m\n\u001b[32m----> \u001b[39m\u001b[32m1\u001b[39m feq = Mi\u001b[38;5;129m@L\u001b[39m\u001b[38;5;129m@keq\u001b[39m\n\u001b[32m      2\u001b[39m \u001b[38;5;28;01mfor\u001b[39;00m i \u001b[38;5;129;01min\u001b[39;00m \u001b[38;5;28mrange\u001b[39m(\u001b[32m9\u001b[39m):\n\u001b[32m      3\u001b[39m     feq[i] = sp.sympify(sp.collect(feq[i], rho))\n",
      "\u001b[31mNameError\u001b[39m: name 'L' is not defined"
     ]
    }
   ],
   "source": [
    "feq = Mi@L@keq\n",
    "for i in range(9):\n",
    "    feq[i] = sp.sympify(sp.collect(feq[i], rho))\n",
    "feq"
   ]
  },
  {
   "cell_type": "code",
   "execution_count": null,
   "metadata": {},
   "outputs": [],
   "source": [
    "ex = np.array([-1,-1,-1,0,0,0,1,1,1])\n",
    "ey = np.array([-1,0,1,-1,0,1,-1,0,1])"
   ]
  },
  {
   "cell_type": "code",
   "execution_count": null,
   "metadata": {},
   "outputs": [
    {
     "name": "stdout",
     "output_type": "stream",
     "text": [
      "u\n",
      "v\n",
      "ρ\n"
     ]
    }
   ],
   "source": [
    "U = 0\n",
    "for i in range(9):\n",
    "    U += ex[i]*feq[i]\n",
    "U = sp.simplify(U/rho)\n",
    "print(U)\n",
    "V = 0\n",
    "for i in range(9):\n",
    "    V += ey[i]*feq[i]\n",
    "V = sp.simplify(V/rho)\n",
    "print(V)\n",
    "print(sp.simplify(feq.sum()))"
   ]
  },
  {
   "cell_type": "code",
   "execution_count": null,
   "metadata": {},
   "outputs": [],
   "source": [
    "w = [\n",
    "    sp.Rational(1, 36),\n",
    "    sp.Rational(1, 9),\n",
    "    sp.Rational(1, 36),\n",
    "    sp.Rational(1, 9),\n",
    "    sp.Rational(4, 9),\n",
    "    sp.Rational(1, 9),\n",
    "    sp.Rational(1, 36),\n",
    "    sp.Rational(1, 9),\n",
    "    sp.Rational(1, 36)\n",
    "]"
   ]
  },
  {
   "cell_type": "code",
   "execution_count": null,
   "metadata": {},
   "outputs": [
    {
     "data": {
      "text/plain": [
       "array([ρ*(3*u**2 + 9*u*v - 3*u + 3*v**2 - 3*v + 1)/36,\n",
       "       ρ*(6*u**2 - 6*u - 3*v**2 + 2)/18,\n",
       "       ρ*(3*u**2 - 9*u*v - 3*u + 3*v**2 + 3*v + 1)/36,\n",
       "       ρ*(-3*u**2 + 6*v**2 - 6*v + 2)/18, 2*ρ*(-3*u**2 - 3*v**2 + 2)/9,\n",
       "       ρ*(-3*u**2 + 6*v**2 + 6*v + 2)/18,\n",
       "       ρ*(3*u**2 - 9*u*v + 3*u + 3*v**2 - 3*v + 1)/36,\n",
       "       ρ*(6*u**2 + 6*u - 3*v**2 + 2)/18,\n",
       "       ρ*(3*u**2 + 9*u*v + 3*u + 3*v**2 + 3*v + 1)/36], dtype=object)"
      ]
     },
     "execution_count": 138,
     "metadata": {},
     "output_type": "execute_result"
    }
   ],
   "source": [
    "for i in range(9):\n",
    "    uu = u**2 + v**2\n",
    "    eu = u*ex[i] + v*ey[i]\n",
    "    feq[i] = sp.simplify(rho*w[i]*(1 + eu/csq + eu**2/(2*csq**2) - uu/(2*csq)))\n",
    "feq"
   ]
  },
  {
   "cell_type": "code",
   "execution_count": null,
   "metadata": {},
   "outputs": [
    {
     "name": "stdout",
     "output_type": "stream",
     "text": [
      "u\n",
      "v\n",
      "ρ\n"
     ]
    }
   ],
   "source": [
    "U = 0\n",
    "for i in range(9):\n",
    "    U += ex[i]*feq[i]\n",
    "U = sp.simplify(U/rho)\n",
    "V = 0\n",
    "for i in range(9):\n",
    "    V += ey[i]*feq[i]\n",
    "V = sp.simplify(V/rho)\n",
    "print(U)\n",
    "print(V)\n",
    "print(sp.simplify(feq.sum()))"
   ]
  },
  {
   "cell_type": "code",
   "execution_count": null,
   "metadata": {},
   "outputs": [],
   "source": []
  }
 ],
 "metadata": {
  "kernelspec": {
   "display_name": "mypy",
   "language": "python",
   "name": "python3"
  },
  "language_info": {
   "codemirror_mode": {
    "name": "ipython",
    "version": 3
   },
   "file_extension": ".py",
   "mimetype": "text/x-python",
   "name": "python",
   "nbconvert_exporter": "python",
   "pygments_lexer": "ipython3",
   "version": "3.12.3"
  }
 },
 "nbformat": 4,
 "nbformat_minor": 2
}
