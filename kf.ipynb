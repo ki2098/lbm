{
 "cells": [
  {
   "cell_type": "code",
   "execution_count": 2,
   "metadata": {},
   "outputs": [],
   "source": [
    "from sympy import *"
   ]
  },
  {
   "cell_type": "code",
   "execution_count": 3,
   "metadata": {},
   "outputs": [],
   "source": [
    "A, B, u, v, I, J = symbols('A B u v I J')\n",
    "\n",
    "expr = ((I-u)**A)*((J-v)**B)\n",
    "\n",
    "mat = zeros(9)"
   ]
  },
  {
   "cell_type": "code",
   "execution_count": 4,
   "metadata": {},
   "outputs": [
    {
     "data": {
      "text/latex": [
       "$\\displaystyle \\left[\\begin{matrix}1 & 1 & 1 & 1 & 1 & 1 & 1 & 1 & 1\\\\- v - 1 & - v & 1 - v & - v - 1 & - v & 1 - v & - v - 1 & - v & 1 - v\\\\\\left(v + 1\\right)^{2} & v^{2} & \\left(v - 1\\right)^{2} & \\left(v + 1\\right)^{2} & v^{2} & \\left(v - 1\\right)^{2} & \\left(v + 1\\right)^{2} & v^{2} & \\left(v - 1\\right)^{2}\\\\- u - 1 & - u - 1 & - u - 1 & - u & - u & - u & 1 - u & 1 - u & 1 - u\\\\\\left(u + 1\\right) \\left(v + 1\\right) & v \\left(u + 1\\right) & \\left(u + 1\\right) \\left(v - 1\\right) & u \\left(v + 1\\right) & u v & u \\left(v - 1\\right) & \\left(u - 1\\right) \\left(v + 1\\right) & v \\left(u - 1\\right) & \\left(u - 1\\right) \\left(v - 1\\right)\\\\\\left(- u - 1\\right) \\left(v + 1\\right)^{2} & v^{2} \\left(- u - 1\\right) & \\left(- u - 1\\right) \\left(v - 1\\right)^{2} & - u \\left(v + 1\\right)^{2} & - u v^{2} & - u \\left(v - 1\\right)^{2} & \\left(1 - u\\right) \\left(v + 1\\right)^{2} & v^{2} \\cdot \\left(1 - u\\right) & \\left(1 - u\\right) \\left(v - 1\\right)^{2}\\\\\\left(u + 1\\right)^{2} & \\left(u + 1\\right)^{2} & \\left(u + 1\\right)^{2} & u^{2} & u^{2} & u^{2} & \\left(u - 1\\right)^{2} & \\left(u - 1\\right)^{2} & \\left(u - 1\\right)^{2}\\\\\\left(u + 1\\right)^{2} \\left(- v - 1\\right) & - v \\left(u + 1\\right)^{2} & \\left(1 - v\\right) \\left(u + 1\\right)^{2} & u^{2} \\left(- v - 1\\right) & - u^{2} v & u^{2} \\cdot \\left(1 - v\\right) & \\left(u - 1\\right)^{2} \\left(- v - 1\\right) & - v \\left(u - 1\\right)^{2} & \\left(1 - v\\right) \\left(u - 1\\right)^{2}\\\\\\left(u + 1\\right)^{2} \\left(v + 1\\right)^{2} & v^{2} \\left(u + 1\\right)^{2} & \\left(u + 1\\right)^{2} \\left(v - 1\\right)^{2} & u^{2} \\left(v + 1\\right)^{2} & u^{2} v^{2} & u^{2} \\left(v - 1\\right)^{2} & \\left(u - 1\\right)^{2} \\left(v + 1\\right)^{2} & v^{2} \\left(u - 1\\right)^{2} & \\left(u - 1\\right)^{2} \\left(v - 1\\right)^{2}\\end{matrix}\\right]$"
      ],
      "text/plain": [
       "Matrix([\n",
       "[                    1,               1,                     1,               1,         1,               1,                     1,               1,                     1],\n",
       "[               -v - 1,              -v,                 1 - v,          -v - 1,        -v,           1 - v,                -v - 1,              -v,                 1 - v],\n",
       "[           (v + 1)**2,            v**2,            (v - 1)**2,      (v + 1)**2,      v**2,      (v - 1)**2,            (v + 1)**2,            v**2,            (v - 1)**2],\n",
       "[               -u - 1,          -u - 1,                -u - 1,              -u,        -u,              -u,                 1 - u,           1 - u,                 1 - u],\n",
       "[      (u + 1)*(v + 1),       v*(u + 1),       (u + 1)*(v - 1),       u*(v + 1),       u*v,       u*(v - 1),       (u - 1)*(v + 1),       v*(u - 1),       (u - 1)*(v - 1)],\n",
       "[  (-u - 1)*(v + 1)**2,   v**2*(-u - 1),   (-u - 1)*(v - 1)**2,   -u*(v + 1)**2,   -u*v**2,   -u*(v - 1)**2,    (1 - u)*(v + 1)**2,    v**2*(1 - u),    (1 - u)*(v - 1)**2],\n",
       "[           (u + 1)**2,      (u + 1)**2,            (u + 1)**2,            u**2,      u**2,            u**2,            (u - 1)**2,      (u - 1)**2,            (u - 1)**2],\n",
       "[  (u + 1)**2*(-v - 1),   -v*(u + 1)**2,    (1 - v)*(u + 1)**2,   u**2*(-v - 1),   -u**2*v,    u**2*(1 - v),   (u - 1)**2*(-v - 1),   -v*(u - 1)**2,    (1 - v)*(u - 1)**2],\n",
       "[(u + 1)**2*(v + 1)**2, v**2*(u + 1)**2, (u + 1)**2*(v - 1)**2, u**2*(v + 1)**2, u**2*v**2, u**2*(v - 1)**2, (u - 1)**2*(v + 1)**2, v**2*(u - 1)**2, (u - 1)**2*(v - 1)**2]])"
      ]
     },
     "execution_count": 4,
     "metadata": {},
     "output_type": "execute_result"
    }
   ],
   "source": [
    "for a in range(3):\n",
    "    for b in range(3):\n",
    "        for i in range(-1,2):\n",
    "            for j in range(-1,2):\n",
    "                kid = a*3+b\n",
    "                fid = (i+1)*3+(j+1)\n",
    "                mat[kid, fid] = expr.subs([(A, a), (B, b), (I, i), (J, j)])\n",
    "\n",
    "mat=simplify(mat)\n",
    "mat"
   ]
  },
  {
   "cell_type": "code",
   "execution_count": 5,
   "metadata": {},
   "outputs": [
    {
     "data": {
      "text/latex": [
       "$\\displaystyle \\left[\\begin{matrix}\\frac{u v \\left(u v - u - v + 1\\right)}{4} & \\frac{u \\left(2 u v - u - 2 v + 1\\right)}{4} & \\frac{u \\left(u - 1\\right)}{4} & \\frac{v \\left(2 u v - 2 u - v + 1\\right)}{4} & u v - \\frac{u}{2} - \\frac{v}{2} + \\frac{1}{4} & \\frac{u}{2} - \\frac{1}{4} & \\frac{v \\left(v - 1\\right)}{4} & \\frac{v}{2} - \\frac{1}{4} & \\frac{1}{4}\\\\\\frac{u \\left(- u v^{2} + u + v^{2} - 1\\right)}{2} & u v \\left(1 - u\\right) & \\frac{u \\left(1 - u\\right)}{2} & - u v^{2} + u + \\frac{v^{2}}{2} - \\frac{1}{2} & v \\left(1 - 2 u\\right) & \\frac{1}{2} - u & \\frac{1}{2} - \\frac{v^{2}}{2} & - v & - \\frac{1}{2}\\\\\\frac{u v \\left(u v + u - v - 1\\right)}{4} & \\frac{u \\left(2 u v + u - 2 v - 1\\right)}{4} & \\frac{u \\left(u - 1\\right)}{4} & \\frac{v \\left(2 u v + 2 u - v - 1\\right)}{4} & u v + \\frac{u}{2} - \\frac{v}{2} - \\frac{1}{4} & \\frac{u}{2} - \\frac{1}{4} & \\frac{v \\left(v + 1\\right)}{4} & \\frac{v}{2} + \\frac{1}{4} & \\frac{1}{4}\\\\\\frac{v \\left(- u^{2} v + u^{2} + v - 1\\right)}{2} & - u^{2} v + \\frac{u^{2}}{2} + v - \\frac{1}{2} & \\frac{1}{2} - \\frac{u^{2}}{2} & u v \\left(1 - v\\right) & u \\left(1 - 2 v\\right) & - u & \\frac{v \\left(1 - v\\right)}{2} & \\frac{1}{2} - v & - \\frac{1}{2}\\\\u^{2} v^{2} - u^{2} - v^{2} + 1 & 2 v \\left(u^{2} - 1\\right) & u^{2} - 1 & 2 u \\left(v^{2} - 1\\right) & 4 u v & 2 u & v^{2} - 1 & 2 v & 1\\\\\\frac{v \\left(- u^{2} v - u^{2} + v + 1\\right)}{2} & - u^{2} v - \\frac{u^{2}}{2} + v + \\frac{1}{2} & \\frac{1}{2} - \\frac{u^{2}}{2} & u v \\left(- v - 1\\right) & u \\left(- 2 v - 1\\right) & - u & \\frac{v \\left(- v - 1\\right)}{2} & - v - \\frac{1}{2} & - \\frac{1}{2}\\\\\\frac{u v \\left(u v - u + v - 1\\right)}{4} & \\frac{u \\left(2 u v - u + 2 v - 1\\right)}{4} & \\frac{u \\left(u + 1\\right)}{4} & \\frac{v \\left(2 u v - 2 u + v - 1\\right)}{4} & u v - \\frac{u}{2} + \\frac{v}{2} - \\frac{1}{4} & \\frac{u}{2} + \\frac{1}{4} & \\frac{v \\left(v - 1\\right)}{4} & \\frac{v}{2} - \\frac{1}{4} & \\frac{1}{4}\\\\\\frac{u \\left(- u v^{2} + u - v^{2} + 1\\right)}{2} & u v \\left(- u - 1\\right) & \\frac{u \\left(- u - 1\\right)}{2} & - u v^{2} + u - \\frac{v^{2}}{2} + \\frac{1}{2} & v \\left(- 2 u - 1\\right) & - u - \\frac{1}{2} & \\frac{1}{2} - \\frac{v^{2}}{2} & - v & - \\frac{1}{2}\\\\\\frac{u v \\left(u v + u + v + 1\\right)}{4} & \\frac{u \\left(2 u v + u + 2 v + 1\\right)}{4} & \\frac{u \\left(u + 1\\right)}{4} & \\frac{v \\left(2 u v + 2 u + v + 1\\right)}{4} & u v + \\frac{u}{2} + \\frac{v}{2} + \\frac{1}{4} & \\frac{u}{2} + \\frac{1}{4} & \\frac{v \\left(v + 1\\right)}{4} & \\frac{v}{2} + \\frac{1}{4} & \\frac{1}{4}\\end{matrix}\\right]$"
      ],
      "text/plain": [
       "Matrix([\n",
       "[     u*v*(u*v - u - v + 1)/4,  u*(2*u*v - u - 2*v + 1)/4,  u*(u - 1)/4,  v*(2*u*v - 2*u - v + 1)/4, u*v - u/2 - v/2 + 1/4, u/2 - 1/4,  v*(v - 1)/4, v/2 - 1/4,  1/4],\n",
       "[u*(-u*v**2 + u + v**2 - 1)/2,                u*v*(1 - u),  u*(1 - u)/2, -u*v**2 + u + v**2/2 - 1/2,           v*(1 - 2*u),   1/2 - u, 1/2 - v**2/2,        -v, -1/2],\n",
       "[     u*v*(u*v + u - v - 1)/4,  u*(2*u*v + u - 2*v - 1)/4,  u*(u - 1)/4,  v*(2*u*v + 2*u - v - 1)/4, u*v + u/2 - v/2 - 1/4, u/2 - 1/4,  v*(v + 1)/4, v/2 + 1/4,  1/4],\n",
       "[v*(-u**2*v + u**2 + v - 1)/2, -u**2*v + u**2/2 + v - 1/2, 1/2 - u**2/2,                u*v*(1 - v),           u*(1 - 2*v),        -u,  v*(1 - v)/2,   1/2 - v, -1/2],\n",
       "[ u**2*v**2 - u**2 - v**2 + 1,             2*v*(u**2 - 1),     u**2 - 1,             2*u*(v**2 - 1),                 4*u*v,       2*u,     v**2 - 1,       2*v,    1],\n",
       "[v*(-u**2*v - u**2 + v + 1)/2, -u**2*v - u**2/2 + v + 1/2, 1/2 - u**2/2,               u*v*(-v - 1),          u*(-2*v - 1),        -u, v*(-v - 1)/2,  -v - 1/2, -1/2],\n",
       "[     u*v*(u*v - u + v - 1)/4,  u*(2*u*v - u + 2*v - 1)/4,  u*(u + 1)/4,  v*(2*u*v - 2*u + v - 1)/4, u*v - u/2 + v/2 - 1/4, u/2 + 1/4,  v*(v - 1)/4, v/2 - 1/4,  1/4],\n",
       "[u*(-u*v**2 + u - v**2 + 1)/2,               u*v*(-u - 1), u*(-u - 1)/2, -u*v**2 + u - v**2/2 + 1/2,          v*(-2*u - 1),  -u - 1/2, 1/2 - v**2/2,        -v, -1/2],\n",
       "[     u*v*(u*v + u + v + 1)/4,  u*(2*u*v + u + 2*v + 1)/4,  u*(u + 1)/4,  v*(2*u*v + 2*u + v + 1)/4, u*v + u/2 + v/2 + 1/4, u/2 + 1/4,  v*(v + 1)/4, v/2 + 1/4,  1/4]])"
      ]
     },
     "execution_count": 5,
     "metadata": {},
     "output_type": "execute_result"
    }
   ],
   "source": [
    "mat_i = simplify(mat.inv())\n",
    "mat_i"
   ]
  },
  {
   "cell_type": "code",
   "execution_count": 6,
   "metadata": {},
   "outputs": [
    {
     "data": {
      "text/latex": [
       "$\\displaystyle \\left[\\begin{matrix}1 & 0 & 0 & 0 & 0 & 0 & 0 & 0 & 0\\\\0 & 1 & 0 & 0 & 0 & 0 & 0 & 0 & 0\\\\0 & 0 & 1 & 0 & 0 & 0 & 0 & 0 & 0\\\\0 & 0 & 0 & 1 & 0 & 0 & 0 & 0 & 0\\\\0 & 0 & 0 & 0 & 1 & 0 & 0 & 0 & 0\\\\0 & 0 & 0 & 0 & 0 & 1 & 0 & 0 & 0\\\\0 & 0 & 0 & 0 & 0 & 0 & 1 & 0 & 0\\\\0 & 0 & 0 & 0 & 0 & 0 & 0 & 1 & 0\\\\0 & 0 & 0 & 0 & 0 & 0 & 0 & 0 & 1\\end{matrix}\\right]$"
      ],
      "text/plain": [
       "Matrix([\n",
       "[1, 0, 0, 0, 0, 0, 0, 0, 0],\n",
       "[0, 1, 0, 0, 0, 0, 0, 0, 0],\n",
       "[0, 0, 1, 0, 0, 0, 0, 0, 0],\n",
       "[0, 0, 0, 1, 0, 0, 0, 0, 0],\n",
       "[0, 0, 0, 0, 1, 0, 0, 0, 0],\n",
       "[0, 0, 0, 0, 0, 1, 0, 0, 0],\n",
       "[0, 0, 0, 0, 0, 0, 1, 0, 0],\n",
       "[0, 0, 0, 0, 0, 0, 0, 1, 0],\n",
       "[0, 0, 0, 0, 0, 0, 0, 0, 1]])"
      ]
     },
     "execution_count": 6,
     "metadata": {},
     "output_type": "execute_result"
    }
   ],
   "source": [
    "expand(mat*mat_i)"
   ]
  },
  {
   "cell_type": "code",
   "execution_count": 7,
   "metadata": {},
   "outputs": [
    {
     "name": "stdout",
     "output_type": "stream",
     "text": [
      "\\left[\\begin{matrix}\\frac{u v \\left(u v - u - v + 1\\right)}{4} & \\frac{u \\left(2 u v - u - 2 v + 1\\right)}{4} & \\frac{u \\left(u - 1\\right)}{4} & \\frac{v \\left(2 u v - 2 u - v + 1\\right)}{4} & u v - \\frac{u}{2} - \\frac{v}{2} + \\frac{1}{4} & \\frac{u}{2} - \\frac{1}{4} & \\frac{v \\left(v - 1\\right)}{4} & \\frac{v}{2} - \\frac{1}{4} & \\frac{1}{4}\\\\\\frac{u \\left(- u v^{2} + u + v^{2} - 1\\right)}{2} & u v \\left(1 - u\\right) & \\frac{u \\left(1 - u\\right)}{2} & - u v^{2} + u + \\frac{v^{2}}{2} - \\frac{1}{2} & v \\left(1 - 2 u\\right) & \\frac{1}{2} - u & \\frac{1}{2} - \\frac{v^{2}}{2} & - v & - \\frac{1}{2}\\\\\\frac{u v \\left(u v + u - v - 1\\right)}{4} & \\frac{u \\left(2 u v + u - 2 v - 1\\right)}{4} & \\frac{u \\left(u - 1\\right)}{4} & \\frac{v \\left(2 u v + 2 u - v - 1\\right)}{4} & u v + \\frac{u}{2} - \\frac{v}{2} - \\frac{1}{4} & \\frac{u}{2} - \\frac{1}{4} & \\frac{v \\left(v + 1\\right)}{4} & \\frac{v}{2} + \\frac{1}{4} & \\frac{1}{4}\\\\\\frac{v \\left(- u^{2} v + u^{2} + v - 1\\right)}{2} & - u^{2} v + \\frac{u^{2}}{2} + v - \\frac{1}{2} & \\frac{1}{2} - \\frac{u^{2}}{2} & u v \\left(1 - v\\right) & u \\left(1 - 2 v\\right) & - u & \\frac{v \\left(1 - v\\right)}{2} & \\frac{1}{2} - v & - \\frac{1}{2}\\\\u^{2} v^{2} - u^{2} - v^{2} + 1 & 2 v \\left(u^{2} - 1\\right) & u^{2} - 1 & 2 u \\left(v^{2} - 1\\right) & 4 u v & 2 u & v^{2} - 1 & 2 v & 1\\\\\\frac{v \\left(- u^{2} v - u^{2} + v + 1\\right)}{2} & - u^{2} v - \\frac{u^{2}}{2} + v + \\frac{1}{2} & \\frac{1}{2} - \\frac{u^{2}}{2} & u v \\left(- v - 1\\right) & u \\left(- 2 v - 1\\right) & - u & \\frac{v \\left(- v - 1\\right)}{2} & - v - \\frac{1}{2} & - \\frac{1}{2}\\\\\\frac{u v \\left(u v - u + v - 1\\right)}{4} & \\frac{u \\left(2 u v - u + 2 v - 1\\right)}{4} & \\frac{u \\left(u + 1\\right)}{4} & \\frac{v \\left(2 u v - 2 u + v - 1\\right)}{4} & u v - \\frac{u}{2} + \\frac{v}{2} - \\frac{1}{4} & \\frac{u}{2} + \\frac{1}{4} & \\frac{v \\left(v - 1\\right)}{4} & \\frac{v}{2} - \\frac{1}{4} & \\frac{1}{4}\\\\\\frac{u \\left(- u v^{2} + u - v^{2} + 1\\right)}{2} & u v \\left(- u - 1\\right) & \\frac{u \\left(- u - 1\\right)}{2} & - u v^{2} + u - \\frac{v^{2}}{2} + \\frac{1}{2} & v \\left(- 2 u - 1\\right) & - u - \\frac{1}{2} & \\frac{1}{2} - \\frac{v^{2}}{2} & - v & - \\frac{1}{2}\\\\\\frac{u v \\left(u v + u + v + 1\\right)}{4} & \\frac{u \\left(2 u v + u + 2 v + 1\\right)}{4} & \\frac{u \\left(u + 1\\right)}{4} & \\frac{v \\left(2 u v + 2 u + v + 1\\right)}{4} & u v + \\frac{u}{2} + \\frac{v}{2} + \\frac{1}{4} & \\frac{u}{2} + \\frac{1}{4} & \\frac{v \\left(v + 1\\right)}{4} & \\frac{v}{2} + \\frac{1}{4} & \\frac{1}{4}\\end{matrix}\\right]\n"
     ]
    }
   ],
   "source": [
    "print_latex(mat_i)"
   ]
  },
  {
   "cell_type": "code",
   "execution_count": 8,
   "metadata": {},
   "outputs": [
    {
     "name": "stdout",
     "output_type": "stream",
     "text": [
      "/* Not supported in C: */\n",
      "/* ImmutableDenseMatrix */\n",
      "Matrix([\n",
      "[     u*v*(u*v - u - v + 1)/4,  u*(2*u*v - u - 2*v + 1)/4,  u*(u - 1)/4,  v*(2*u*v - 2*u - v + 1)/4, u*v - u/2 - v/2 + 1/4, u/2 - 1/4,  v*(v - 1)/4, v/2 - 1/4,  1/4],\n",
      "[u*(-u*v**2 + u + v**2 - 1)/2,                u*v*(1 - u),  u*(1 - u)/2, -u*v**2 + u + v**2/2 - 1/2,           v*(1 - 2*u),   1/2 - u, 1/2 - v**2/2,        -v, -1/2],\n",
      "[     u*v*(u*v + u - v - 1)/4,  u*(2*u*v + u - 2*v - 1)/4,  u*(u - 1)/4,  v*(2*u*v + 2*u - v - 1)/4, u*v + u/2 - v/2 - 1/4, u/2 - 1/4,  v*(v + 1)/4, v/2 + 1/4,  1/4],\n",
      "[v*(-u**2*v + u**2 + v - 1)/2, -u**2*v + u**2/2 + v - 1/2, 1/2 - u**2/2,                u*v*(1 - v),           u*(1 - 2*v),        -u,  v*(1 - v)/2,   1/2 - v, -1/2],\n",
      "[ u**2*v**2 - u**2 - v**2 + 1,             2*v*(u**2 - 1),     u**2 - 1,             2*u*(v**2 - 1),                 4*u*v,       2*u,     v**2 - 1,       2*v,    1],\n",
      "[v*(-u**2*v - u**2 + v + 1)/2, -u**2*v - u**2/2 + v + 1/2, 1/2 - u**2/2,               u*v*(-v - 1),          u*(-2*v - 1),        -u, v*(-v - 1)/2,  -v - 1/2, -1/2],\n",
      "[     u*v*(u*v - u + v - 1)/4,  u*(2*u*v - u + 2*v - 1)/4,  u*(u + 1)/4,  v*(2*u*v - 2*u + v - 1)/4, u*v - u/2 + v/2 - 1/4, u/2 + 1/4,  v*(v - 1)/4, v/2 - 1/4,  1/4],\n",
      "[u*(-u*v**2 + u - v**2 + 1)/2,               u*v*(-u - 1), u*(-u - 1)/2, -u*v**2 + u - v**2/2 + 1/2,          v*(-2*u - 1),  -u - 1/2, 1/2 - v**2/2,        -v, -1/2],\n",
      "[     u*v*(u*v + u + v + 1)/4,  u*(2*u*v + u + 2*v + 1)/4,  u*(u + 1)/4,  v*(2*u*v + 2*u + v + 1)/4, u*v + u/2 + v/2 + 1/4, u/2 + 1/4,  v*(v + 1)/4, v/2 + 1/4,  1/4]])\n"
     ]
    }
   ],
   "source": [
    "print_ccode(mat_i)"
   ]
  },
  {
   "cell_type": "code",
   "execution_count": 9,
   "metadata": {},
   "outputs": [
    {
     "data": {
      "text/latex": [
       "$\\displaystyle \\left[\\begin{matrix}f_{0} + f_{1} + f_{2} + f_{3} + f_{4} + f_{5} + f_{6} + f_{7} + f_{8}\\\\f_{0} \\left(- v - 1\\right) - f_{1} v + f_{2} \\cdot \\left(1 - v\\right) + f_{3} \\left(- v - 1\\right) - f_{4} v + f_{5} \\cdot \\left(1 - v\\right) + f_{6} \\left(- v - 1\\right) - f_{7} v + f_{8} \\cdot \\left(1 - v\\right)\\\\f_{0} \\left(v + 1\\right)^{2} + f_{1} v^{2} + f_{2} \\left(v - 1\\right)^{2} + f_{3} \\left(v + 1\\right)^{2} + f_{4} v^{2} + f_{5} \\left(v - 1\\right)^{2} + f_{6} \\left(v + 1\\right)^{2} + f_{7} v^{2} + f_{8} \\left(v - 1\\right)^{2}\\\\f_{0} \\left(- u - 1\\right) + f_{1} \\left(- u - 1\\right) + f_{2} \\left(- u - 1\\right) - f_{3} u - f_{4} u - f_{5} u + f_{6} \\cdot \\left(1 - u\\right) + f_{7} \\cdot \\left(1 - u\\right) + f_{8} \\cdot \\left(1 - u\\right)\\\\f_{0} \\left(u + 1\\right) \\left(v + 1\\right) + f_{1} v \\left(u + 1\\right) + f_{2} \\left(u + 1\\right) \\left(v - 1\\right) + f_{3} u \\left(v + 1\\right) + f_{4} u v + f_{5} u \\left(v - 1\\right) + f_{6} \\left(u - 1\\right) \\left(v + 1\\right) + f_{7} v \\left(u - 1\\right) + f_{8} \\left(u - 1\\right) \\left(v - 1\\right)\\\\f_{0} \\left(- u - 1\\right) \\left(v + 1\\right)^{2} + f_{1} v^{2} \\left(- u - 1\\right) + f_{2} \\left(- u - 1\\right) \\left(v - 1\\right)^{2} - f_{3} u \\left(v + 1\\right)^{2} - f_{4} u v^{2} - f_{5} u \\left(v - 1\\right)^{2} + f_{6} \\cdot \\left(1 - u\\right) \\left(v + 1\\right)^{2} + f_{7} v^{2} \\cdot \\left(1 - u\\right) + f_{8} \\cdot \\left(1 - u\\right) \\left(v - 1\\right)^{2}\\\\f_{0} \\left(u + 1\\right)^{2} + f_{1} \\left(u + 1\\right)^{2} + f_{2} \\left(u + 1\\right)^{2} + f_{3} u^{2} + f_{4} u^{2} + f_{5} u^{2} + f_{6} \\left(u - 1\\right)^{2} + f_{7} \\left(u - 1\\right)^{2} + f_{8} \\left(u - 1\\right)^{2}\\\\f_{0} \\left(u + 1\\right)^{2} \\left(- v - 1\\right) - f_{1} v \\left(u + 1\\right)^{2} + f_{2} \\cdot \\left(1 - v\\right) \\left(u + 1\\right)^{2} + f_{3} u^{2} \\left(- v - 1\\right) - f_{4} u^{2} v + f_{5} u^{2} \\cdot \\left(1 - v\\right) + f_{6} \\left(u - 1\\right)^{2} \\left(- v - 1\\right) - f_{7} v \\left(u - 1\\right)^{2} + f_{8} \\cdot \\left(1 - v\\right) \\left(u - 1\\right)^{2}\\\\f_{0} \\left(u + 1\\right)^{2} \\left(v + 1\\right)^{2} + f_{1} v^{2} \\left(u + 1\\right)^{2} + f_{2} \\left(u + 1\\right)^{2} \\left(v - 1\\right)^{2} + f_{3} u^{2} \\left(v + 1\\right)^{2} + f_{4} u^{2} v^{2} + f_{5} u^{2} \\left(v - 1\\right)^{2} + f_{6} \\left(u - 1\\right)^{2} \\left(v + 1\\right)^{2} + f_{7} v^{2} \\left(u - 1\\right)^{2} + f_{8} \\left(u - 1\\right)^{2} \\left(v - 1\\right)^{2}\\end{matrix}\\right]$"
      ],
      "text/plain": [
       "Matrix([\n",
       "[                                                                                                                                                                  f0 + f1 + f2 + f3 + f4 + f5 + f6 + f7 + f8],\n",
       "[                                                                                                         f0*(-v - 1) - f1*v + f2*(1 - v) + f3*(-v - 1) - f4*v + f5*(1 - v) + f6*(-v - 1) - f7*v + f8*(1 - v)],\n",
       "[                                                                                 f0*(v + 1)**2 + f1*v**2 + f2*(v - 1)**2 + f3*(v + 1)**2 + f4*v**2 + f5*(v - 1)**2 + f6*(v + 1)**2 + f7*v**2 + f8*(v - 1)**2],\n",
       "[                                                                                                         f0*(-u - 1) + f1*(-u - 1) + f2*(-u - 1) - f3*u - f4*u - f5*u + f6*(1 - u) + f7*(1 - u) + f8*(1 - u)],\n",
       "[                                                      f0*(u + 1)*(v + 1) + f1*v*(u + 1) + f2*(u + 1)*(v - 1) + f3*u*(v + 1) + f4*u*v + f5*u*(v - 1) + f6*(u - 1)*(v + 1) + f7*v*(u - 1) + f8*(u - 1)*(v - 1)],\n",
       "[                        f0*(-u - 1)*(v + 1)**2 + f1*v**2*(-u - 1) + f2*(-u - 1)*(v - 1)**2 - f3*u*(v + 1)**2 - f4*u*v**2 - f5*u*(v - 1)**2 + f6*(1 - u)*(v + 1)**2 + f7*v**2*(1 - u) + f8*(1 - u)*(v - 1)**2],\n",
       "[                                                                                 f0*(u + 1)**2 + f1*(u + 1)**2 + f2*(u + 1)**2 + f3*u**2 + f4*u**2 + f5*u**2 + f6*(u - 1)**2 + f7*(u - 1)**2 + f8*(u - 1)**2],\n",
       "[                        f0*(u + 1)**2*(-v - 1) - f1*v*(u + 1)**2 + f2*(1 - v)*(u + 1)**2 + f3*u**2*(-v - 1) - f4*u**2*v + f5*u**2*(1 - v) + f6*(u - 1)**2*(-v - 1) - f7*v*(u - 1)**2 + f8*(1 - v)*(u - 1)**2],\n",
       "[f0*(u + 1)**2*(v + 1)**2 + f1*v**2*(u + 1)**2 + f2*(u + 1)**2*(v - 1)**2 + f3*u**2*(v + 1)**2 + f4*u**2*v**2 + f5*u**2*(v - 1)**2 + f6*(u - 1)**2*(v + 1)**2 + f7*v**2*(u - 1)**2 + f8*(u - 1)**2*(v - 1)**2]])"
      ]
     },
     "execution_count": 9,
     "metadata": {},
     "output_type": "execute_result"
    }
   ],
   "source": [
    "f0, f1, f2, f3, f4, f5, f6, f7, f8 = symbols('f0, f1, f2, f3, f4, f5, f6, f7, f8')\n",
    "k = mat*Matrix([f0, f1, f2, f3, f4, f5, f6, f7, f8])\n",
    "k"
   ]
  },
  {
   "cell_type": "code",
   "execution_count": 10,
   "metadata": {},
   "outputs": [
    {
     "data": {
      "text/latex": [
       "$\\displaystyle \\left[\\begin{matrix}\\rho\\\\0\\\\\\rho c_{s}^{2}\\\\0\\\\0\\\\0\\\\\\rho c_{s}^{2}\\\\0\\\\\\rho c_{s}^{4}\\end{matrix}\\right]$"
      ],
      "text/plain": [
       "Matrix([\n",
       "[       \\rho],\n",
       "[          0],\n",
       "[\\rho*c_s**2],\n",
       "[          0],\n",
       "[          0],\n",
       "[          0],\n",
       "[\\rho*c_s**2],\n",
       "[          0],\n",
       "[\\rho*c_s**4]])"
      ]
     },
     "execution_count": 10,
     "metadata": {},
     "output_type": "execute_result"
    }
   ],
   "source": [
    "rho, cs = symbols(r'\\rho c_s')\n",
    "k00eq = rho\n",
    "k10eq = 0\n",
    "k01eq = 0\n",
    "k20eq = rho*cs**2\n",
    "k02eq = rho*cs**2\n",
    "k11eq = 0\n",
    "k21eq = 0\n",
    "k12eq = 0\n",
    "k22eq = rho*cs**4\n",
    "keq = Matrix([k00eq, k01eq, k02eq, k10eq, k11eq, k12eq, k20eq, k21eq, k22eq])\n",
    "keq"
   ]
  },
  {
   "cell_type": "code",
   "execution_count": 11,
   "metadata": {},
   "outputs": [
    {
     "data": {
      "text/latex": [
       "$\\displaystyle \\left[\\begin{matrix}\\frac{\\rho \\left(9 u v \\left(u v - u - v + 1\\right) + 3 u \\left(u - 1\\right) + 3 v \\left(v - 1\\right) + 1\\right)}{36}\\\\- \\frac{\\rho \\left(3 u \\left(u - 1\\right) + 9 u \\left(u v^{2} - u - v^{2} + 1\\right) + 3 v^{2} - 2\\right)}{18}\\\\\\frac{\\rho \\left(9 u v \\left(u v + u - v - 1\\right) + 3 u \\left(u - 1\\right) + 3 v \\left(v + 1\\right) + 1\\right)}{36}\\\\- \\frac{\\rho \\left(3 u^{2} + 3 v \\left(v - 1\\right) + 9 v \\left(u^{2} v - u^{2} - v + 1\\right) - 2\\right)}{18}\\\\\\frac{\\rho \\left(9 u^{2} v^{2} - 6 u^{2} - 6 v^{2} + 4\\right)}{9}\\\\- \\frac{\\rho \\left(3 u^{2} + 3 v \\left(v + 1\\right) + 9 v \\left(u^{2} v + u^{2} - v - 1\\right) - 2\\right)}{18}\\\\\\frac{\\rho \\left(9 u v \\left(u v - u + v - 1\\right) + 3 u \\left(u + 1\\right) + 3 v \\left(v - 1\\right) + 1\\right)}{36}\\\\- \\frac{\\rho \\left(3 u \\left(u + 1\\right) + 9 u \\left(u v^{2} - u + v^{2} - 1\\right) + 3 v^{2} - 2\\right)}{18}\\\\\\frac{\\rho \\left(9 u v \\left(u v + u + v + 1\\right) + 3 u \\left(u + 1\\right) + 3 v \\left(v + 1\\right) + 1\\right)}{36}\\end{matrix}\\right]$"
      ],
      "text/plain": [
       "Matrix([\n",
       "[\\rho*(9*u*v*(u*v - u - v + 1) + 3*u*(u - 1) + 3*v*(v - 1) + 1)/36],\n",
       "[-\\rho*(3*u*(u - 1) + 9*u*(u*v**2 - u - v**2 + 1) + 3*v**2 - 2)/18],\n",
       "[\\rho*(9*u*v*(u*v + u - v - 1) + 3*u*(u - 1) + 3*v*(v + 1) + 1)/36],\n",
       "[-\\rho*(3*u**2 + 3*v*(v - 1) + 9*v*(u**2*v - u**2 - v + 1) - 2)/18],\n",
       "[                       \\rho*(9*u**2*v**2 - 6*u**2 - 6*v**2 + 4)/9],\n",
       "[-\\rho*(3*u**2 + 3*v*(v + 1) + 9*v*(u**2*v + u**2 - v - 1) - 2)/18],\n",
       "[\\rho*(9*u*v*(u*v - u + v - 1) + 3*u*(u + 1) + 3*v*(v - 1) + 1)/36],\n",
       "[-\\rho*(3*u*(u + 1) + 9*u*(u*v**2 - u + v**2 - 1) + 3*v**2 - 2)/18],\n",
       "[\\rho*(9*u*v*(u*v + u + v + 1) + 3*u*(u + 1) + 3*v*(v + 1) + 1)/36]])"
      ]
     },
     "execution_count": 11,
     "metadata": {},
     "output_type": "execute_result"
    }
   ],
   "source": [
    "feq = simplify(mat_i*keq)\n",
    "simplify(feq.subs(cs, 1/sqrt(3)))"
   ]
  },
  {
   "cell_type": "code",
   "execution_count": 12,
   "metadata": {},
   "outputs": [
    {
     "data": {
      "text/latex": [
       "$\\displaystyle \\left[\\begin{matrix}\\rho\\\\\\rho u\\\\\\rho v\\end{matrix}\\right]$"
      ],
      "text/plain": [
       "Matrix([\n",
       "[  \\rho],\n",
       "[\\rho*u],\n",
       "[\\rho*v]])"
      ]
     },
     "execution_count": 12,
     "metadata": {},
     "output_type": "execute_result"
    }
   ],
   "source": [
    "ve = Matrix([\n",
    "    [1, 1, 1, 1, 1, 1, 1, 1, 1],\n",
    "    [-1, -1, -1, 0, 0, 0, 1, 1, 1],\n",
    "    [-1, 0, 1, -1, 0, 1, -1, 0, 1]\n",
    "])\n",
    "expand(ve*feq)"
   ]
  },
  {
   "cell_type": "code",
   "execution_count": null,
   "metadata": {},
   "outputs": [],
   "source": []
  }
 ],
 "metadata": {
  "kernelspec": {
   "display_name": "Python 3",
   "language": "python",
   "name": "python3"
  },
  "language_info": {
   "codemirror_mode": {
    "name": "ipython",
    "version": 3
   },
   "file_extension": ".py",
   "mimetype": "text/x-python",
   "name": "python",
   "nbconvert_exporter": "python",
   "pygments_lexer": "ipython3",
   "version": "3.10.12"
  }
 },
 "nbformat": 4,
 "nbformat_minor": 2
}
