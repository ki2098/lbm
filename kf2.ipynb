{
 "cells": [
  {
   "cell_type": "code",
   "execution_count": 11,
   "metadata": {},
   "outputs": [],
   "source": [
    "from sympy import *"
   ]
  },
  {
   "cell_type": "code",
   "execution_count": 12,
   "metadata": {},
   "outputs": [
    {
     "data": {
      "text/latex": [
       "$\\displaystyle \\left[\\begin{matrix}\\frac{\\rho \\left(3 u^{2} + 9 u v - 3 u + 3 v^{2} - 3 v + 1\\right)}{36}\\\\\\frac{\\rho \\left(6 u^{2} - 6 u - 3 v^{2} + 2\\right)}{18}\\\\\\frac{\\rho \\left(3 u^{2} - 9 u v - 3 u + 3 v^{2} + 3 v + 1\\right)}{36}\\\\\\frac{\\rho \\left(- 3 u^{2} + 6 v^{2} - 6 v + 2\\right)}{18}\\\\\\frac{2 \\rho \\left(- 3 u^{2} - 3 v^{2} + 2\\right)}{9}\\\\\\frac{\\rho \\left(- 3 u^{2} + 6 v^{2} + 6 v + 2\\right)}{18}\\\\\\frac{\\rho \\left(3 u^{2} - 9 u v + 3 u + 3 v^{2} - 3 v + 1\\right)}{36}\\\\\\frac{\\rho \\left(6 u^{2} + 6 u - 3 v^{2} + 2\\right)}{18}\\\\\\frac{\\rho \\left(3 u^{2} + 9 u v + 3 u + 3 v^{2} + 3 v + 1\\right)}{36}\\end{matrix}\\right]$"
      ],
      "text/plain": [
       "Matrix([\n",
       "[\\rho*(3*u**2 + 9*u*v - 3*u + 3*v**2 - 3*v + 1)/36],\n",
       "[              \\rho*(6*u**2 - 6*u - 3*v**2 + 2)/18],\n",
       "[\\rho*(3*u**2 - 9*u*v - 3*u + 3*v**2 + 3*v + 1)/36],\n",
       "[             \\rho*(-3*u**2 + 6*v**2 - 6*v + 2)/18],\n",
       "[                  2*\\rho*(-3*u**2 - 3*v**2 + 2)/9],\n",
       "[             \\rho*(-3*u**2 + 6*v**2 + 6*v + 2)/18],\n",
       "[\\rho*(3*u**2 - 9*u*v + 3*u + 3*v**2 - 3*v + 1)/36],\n",
       "[              \\rho*(6*u**2 + 6*u - 3*v**2 + 2)/18],\n",
       "[\\rho*(3*u**2 + 9*u*v + 3*u + 3*v**2 + 3*v + 1)/36]])"
      ]
     },
     "execution_count": 12,
     "metadata": {},
     "output_type": "execute_result"
    }
   ],
   "source": [
    "feq = zeros(9, 1)\n",
    "w = Matrix([\n",
    "    Rational(1, 36),\n",
    "    Rational(1, 9),\n",
    "    Rational(1, 36),\n",
    "    Rational(1, 9),\n",
    "    Rational(4, 9),\n",
    "    Rational(1, 9),\n",
    "    Rational(1, 36),\n",
    "    Rational(1, 9),\n",
    "    Rational(1, 36)\n",
    "])\n",
    "rho, u, v = symbols(r'\\rho u v')\n",
    "cs = 1/sqrt(3)\n",
    "for i in range(-1,2):\n",
    "    for j in range(-1,2):\n",
    "        fid = (i + 1)*3 + (j + 1)\n",
    "        eu = i*u + j*v\n",
    "        uu = u*u + v*v\n",
    "        feq[fid] = rho*w[fid]*(1 + eu/(cs**2) + (eu*eu)/(2*cs**4) - uu/(2*cs**2))\n",
    "\n",
    "simplify(feq)"
   ]
  },
  {
   "cell_type": "code",
   "execution_count": 13,
   "metadata": {},
   "outputs": [
    {
     "data": {
      "text/latex": [
       "$\\displaystyle \\left[\\begin{matrix}\\rho\\\\0\\\\\\frac{\\rho}{3}\\\\0\\\\0\\\\- \\rho u v^{2}\\\\\\frac{\\rho}{3}\\\\- \\rho u^{2} v\\\\\\frac{\\rho \\left(27 u^{2} v^{2} + 1\\right)}{9}\\end{matrix}\\right]$"
      ],
      "text/plain": [
       "Matrix([\n",
       "[                     \\rho],\n",
       "[                        0],\n",
       "[                   \\rho/3],\n",
       "[                        0],\n",
       "[                        0],\n",
       "[             -\\rho*u*v**2],\n",
       "[                   \\rho/3],\n",
       "[             -\\rho*u**2*v],\n",
       "[\\rho*(27*u**2*v**2 + 1)/9]])"
      ]
     },
     "execution_count": 13,
     "metadata": {},
     "output_type": "execute_result"
    }
   ],
   "source": [
    "A, B, I, J = symbols('A B I J')\n",
    "expr = ((I-u)**A)*((J-v)**B)\n",
    "keq = zeros(9, 1)\n",
    "for a in range(3):\n",
    "    for b in range(3):\n",
    "        kid = a*3+b\n",
    "        for i in range(-1,2):\n",
    "            for j in range(-1,2):\n",
    "                fid = (i+1)*3+(j+1)\n",
    "                keq[kid] += feq[fid]*expr.subs([(A, a), (B, b), (I, i), (J, j)])\n",
    "                \n",
    "simplify(keq)\n"
   ]
  },
  {
   "cell_type": "code",
   "execution_count": 14,
   "metadata": {},
   "outputs": [
    {
     "data": {
      "text/latex": [
       "$\\displaystyle \\left[\\begin{matrix}\\rho\\\\0\\\\\\frac{\\rho}{3}\\\\0\\\\0\\\\0\\\\\\frac{\\rho}{3}\\\\0\\\\\\frac{\\rho}{9}\\end{matrix}\\right]$"
      ],
      "text/plain": [
       "Matrix([\n",
       "[  \\rho],\n",
       "[     0],\n",
       "[\\rho/3],\n",
       "[     0],\n",
       "[     0],\n",
       "[     0],\n",
       "[\\rho/3],\n",
       "[     0],\n",
       "[\\rho/9]])"
      ]
     },
     "execution_count": 14,
     "metadata": {},
     "output_type": "execute_result"
    }
   ],
   "source": [
    "Xi, Upsilon = symbols(r'\\Xi \\Upsilon')\n",
    "Keq = rho*exp(cs**2*(Xi**2 + Upsilon**2)/2)\n",
    "keq_ = zeros(9, 1)\n",
    "for a in range(3):\n",
    "    for b in range(3):\n",
    "        kid = a*3+b\n",
    "        keq_[kid] = diff(Keq, Xi, a, Upsilon, b).subs([(Xi, 0), (Upsilon, 0)])\n",
    "keq_"
   ]
  },
  {
   "cell_type": "code",
   "execution_count": null,
   "metadata": {},
   "outputs": [],
   "source": []
  }
 ],
 "metadata": {
  "kernelspec": {
   "display_name": "Python 3",
   "language": "python",
   "name": "python3"
  },
  "language_info": {
   "codemirror_mode": {
    "name": "ipython",
    "version": 3
   },
   "file_extension": ".py",
   "mimetype": "text/x-python",
   "name": "python",
   "nbconvert_exporter": "python",
   "pygments_lexer": "ipython3",
   "version": "3.10.12"
  }
 },
 "nbformat": 4,
 "nbformat_minor": 2
}
